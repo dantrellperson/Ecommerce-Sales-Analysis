{
 "cells": [
  {
   "cell_type": "code",
   "execution_count": 2,
   "id": "eab7346a",
   "metadata": {},
   "outputs": [],
   "source": [
    "# Import dependencies \n",
    "import pandas as pd\n",
    "import numpy as np"
   ]
  },
  {
   "cell_type": "code",
   "execution_count": 3,
   "id": "7669ed0d",
   "metadata": {},
   "outputs": [],
   "source": [
    "# # The below function creates a final inventory list with sales by stock code, and adds 'price category' \n",
    "# # and 'sales frequency' columns\n",
    "\n",
    "def actual_sales_inventory():\n",
    "    \n",
    "    actual_sales_inventory_csv = input(f\"Please provide your actual sales inventory csv path: \")\n",
    "    sales_by_stockCode_csv = input(f\"Please provide your sales by stockCode csv path: \")\n",
    "\n",
    "    # load in provided csvs\n",
    "    provided_inventory = pd.read_csv(actual_sales_inventory_csv, encoding='unicode_escape') # inventory df\n",
    "    provided_sales = pd.read_csv(sales_by_stockCode_csv, encoding= 'unicode_escape') # sales df\n",
    "      \n",
    "    # created price categories labels below based on only 6 items having a UnitPrice higher than $100\n",
    "    result = pd.merge(provided_inventory, provided_sales, on=\"StockCode\")\n",
    "    conditions = [\n",
    "    result['UnitPrice'].lt(5), \n",
    "    result['UnitPrice'].ge(5) & result['UnitPrice'].le(20), \n",
    "    result['UnitPrice'].gt(20)]\n",
    "    choices = ['cheap', 'medium', 'high']\n",
    "    result['Price_Category'] = np.select(conditions, choices)\n",
    "    \n",
    "    # The highest selling item sold 80,995 , so sepaarted price frequency by 4 even categories because 80k is easily \n",
    "    # divisible by 4, over half of the items sold, sold less than 1000 units. However very few sold under 100\n",
    "    conditions = [\n",
    "    result['Quantity'].lt(100), \n",
    "    result['Quantity'].ge(100) & result['Quantity'].le(1000), \n",
    "    result['Quantity'].ge(1000) & result['Quantity'].le(5000), \n",
    "    result['Quantity'].ge(5000) & result['Quantity'].le(10000),\n",
    "    result['Quantity'].gt(10000)]\n",
    "    choices = ['cold', 'warm','reg_seller', 'hot', 'best_seller']\n",
    "    result['Sales_Frequency'] = np.select(conditions, choices)\n",
    "\n",
    "    # --------CSV export section--------------------\n",
    "    \n",
    "    result.to_csv('Output_Data/actual_sales_inventory.csv',index = False)\n",
    "    return result"
   ]
  }
 ],
 "metadata": {
  "kernelspec": {
   "display_name": "Python 3 (ipykernel)",
   "language": "python",
   "name": "python3"
  },
  "language_info": {
   "codemirror_mode": {
    "name": "ipython",
    "version": 3
   },
   "file_extension": ".py",
   "mimetype": "text/x-python",
   "name": "python",
   "nbconvert_exporter": "python",
   "pygments_lexer": "ipython3",
   "version": "3.9.9"
  }
 },
 "nbformat": 4,
 "nbformat_minor": 5
}
