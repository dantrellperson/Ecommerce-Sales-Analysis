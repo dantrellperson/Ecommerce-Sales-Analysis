{
 "cells": [
  {
   "cell_type": "code",
   "execution_count": 1,
   "id": "463fd20b",
   "metadata": {},
   "outputs": [],
   "source": [
    "import pandas as pd\n",
    "import warnings\n",
    "warnings.filterwarnings('ignore')"
   ]
  },
  {
   "cell_type": "code",
   "execution_count": 2,
   "id": "f65dd463",
   "metadata": {},
   "outputs": [],
   "source": [
    "# # The below function creates a total sales list by stock code from a provided sales_invoices csv \n",
    "\n",
    "def sales_by_stockCode():\n",
    "    \n",
    "    sales_csv = input(f\"Please provide your sales csv path: \")\n",
    "\n",
    "    # load in provided sales data csv\n",
    "    provided_sales = pd.read_csv(sales_csv, encoding='unicode_escape')\n",
    "\n",
    "    # filter out all the rows where the Quanty is 0\n",
    "    sales_copy = provided_sales.loc[provided_sales['Quantity'] > 0]\n",
    "\n",
    "    # drop description column\n",
    "    sales_copy.drop(columns='Description', inplace=True)\n",
    "\n",
    "    # remove the time from the invoice date column\n",
    "    sales_copy['InvoiceDate'] = sales_copy['InvoiceDate'].str[:-5]\n",
    "\n",
    "    # create a total sales column by summing all individual invoice sales for each stock code\n",
    "    sales_copy['TotalSales'] = sales_copy.Quantity * sales_copy.UnitPrice\n",
    "\n",
    "    # The average of the unit prices was used, as in the data there was no indication\n",
    "    # as to why the same item have different prices, other than maybe season\n",
    "\n",
    "    # Used sum of InvoiceTotal column to get the overall sales for each stockcode\n",
    "    # Used sum of quantity to get an idea what total invntory might look like\n",
    "    final = sales_copy.groupby(['StockCode']).agg({'TotalSales': 'sum', 'Quantity': 'sum',\n",
    "                                                   'UnitPrice': 'mean'}).reset_index()\n",
    "    # round the UnitPrice column to two decimal places\n",
    "    final['UnitPrice'] = final['UnitPrice'].round(2)\n",
    "\n",
    "    # --------------CSV export section--------------------------------------------\n",
    "\n",
    "    final.to_csv('Output_Data/sales_by_stockCode.csv', index=False)\n",
    "\n",
    "    # -------------- Return statement --------------------\n",
    "\n",
    "    return final"
   ]
  }
 ],
 "metadata": {
  "kernelspec": {
   "display_name": "Python 3 (ipykernel)",
   "language": "python",
   "name": "python3"
  },
  "language_info": {
   "codemirror_mode": {
    "name": "ipython",
    "version": 3
   },
   "file_extension": ".py",
   "mimetype": "text/x-python",
   "name": "python",
   "nbconvert_exporter": "python",
   "pygments_lexer": "ipython3",
   "version": "3.9.9"
  }
 },
 "nbformat": 4,
 "nbformat_minor": 5
}
