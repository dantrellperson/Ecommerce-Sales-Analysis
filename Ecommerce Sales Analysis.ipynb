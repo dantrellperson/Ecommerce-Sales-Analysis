{
 "cells": [
  {
   "cell_type": "code",
   "execution_count": 1,
   "id": "4862498e",
   "metadata": {},
   "outputs": [],
   "source": [
    "# Timer\n",
    "\n",
    "# I have created a process to reduce 1 weeks worth of cleaning down 4 mins"
   ]
  },
  {
   "cell_type": "markdown",
   "id": "4cb78bc9",
   "metadata": {},
   "source": [
    "# This is an analysis of E-commerce sales data from an actual UK retailer. \n",
    "Company that mainly sells unique all-occasion gifts. Many customers of the company are wholesalers. All the transactions occurring between 01/12/2010 and 09/12/2011\n",
    "\n",
    "**The overall goal was to create categories for stock codes to fall into based on their description, price range, and sales frequency. Then find trends for created categories based on sales.**\n",
    "\n",
    "\n",
    "### What Business Impact does this have?/ What is the Business Value?\n",
    "   - This analysis will help Sales team make data backed decisions like: \"Based on previous sales, Which item categories should be pitched as our best sellers to wholesales partners to encourage them bulk order?\", Can provide Sales team with an overview of how similarly categorized and priced items in inventory performed by organizing stock codes into category buckets.\n",
    "   - Based on sales performance shown by analysis, Supply Chain/Operations department can more easily forecast which quantities of items should be ordered from factory partner.\n",
    "\n",
    "\n",
    "\n",
    "\n",
    "#### Source: <!--'E-Commerce Transactions from actual UK Retailer --> https://www.kaggle.com/datasets/carrie1/ecommerce-data"
   ]
  },
  {
   "cell_type": "markdown",
   "id": "3f157060",
   "metadata": {},
   "source": [
    "# Main Takeaways\n",
    "\n",
    "1. \"Regular\" selling items made 39.4% of total sales for this wholeseller. \n",
    "\n",
    "1. Items that include a design in the description are far and away the best selling created category. Second are items that include some indication of being for household(for person not business) in the description, and Third items that include color in description. \n",
    "\n",
    "1. This Gift Shop's money maker by Unit Price was overwhelmingly cheap items, with 92.3% of all items sold costing less than \\\\$5.00, accounting for 71.4\\% of total sales.\n",
    "\n",
    "1. Reduced the redunancy of stock code from x number to x number"
   ]
  },
  {
   "cell_type": "markdown",
   "id": "8dbc7bb5",
   "metadata": {},
   "source": [
    "### Overall UnitPrice Analysis\n",
    "\n",
    "- cheap = Less than \\\\$5.00\n",
    "- medium = More than \\\\$5.00, but less than \\\\$20.00\n",
    "- high = More than \\\\$20.00\n",
    "\n",
    "This Gift Shop's money maker was overwhelmingly cheap items, with 92.3% of all items sold costing less than \\\\$5.00, accounting for 71.4\\% of total sales.\n",
    "\n",
    "Medium priced items accounted for 7.7\\% of all items sold, and 27\\%  of total sales.\n",
    "\n",
    "High priced items accounted for less than 0.1\\% of all items sold, and 0.7\\% of total saless."
   ]
  },
  {
   "cell_type": "markdown",
   "id": "e3190780",
   "metadata": {},
   "source": [
    "### Category compared to TotalSales Analysis\n",
    "\n",
    "The below percentage shows each category compared to the rest of sales, multiple items meet more than one category so the % are not meant to add up to 100. The percentages are to show specific category type vs rest of inventory. \n",
    "\n",
    "For example, \"SET OF 5 RED PLATES\" would fall into the sets category and the colors category.\n",
    "\n",
    "- SETS = 18.6% of total sales\n",
    "- Colors = 23.6% of total sales\n",
    "- Material = 16.6% of total sales\n",
    "- Design = 46% of total sales\n",
    "- Jewelry = 1.2% of total sales\n",
    "- Household = 32 % of total sales\n",
    "- MISC = 18% of total sales"
   ]
  },
  {
   "cell_type": "markdown",
   "id": "96d733b2",
   "metadata": {},
   "source": [
    "## Sales Frequency Analysis\n",
    "\n",
    "Legend:\n",
    "- best_seller: items that sold more than 10,000 pieces\n",
    "- cold: items that sold less than 100 pieces \n",
    "- hot: items that sold between 5,000 and 10,1000 pieces\n",
    "- reg_seller: items that sold between 1,000 and 5,000 pieces\n",
    "- warm: items that sold between 100 and 1,000 pieces \n",
    "\n",
    "\n",
    "\"Regular\" selling items made 39.4% of total sales for this wholeseller. Items that include a design in the description are far and away the best selling created category\n",
    "\n",
    "- best_seller: 24.8%\n",
    "- cold: 1.5%\n",
    "- hot: 17.3%\n",
    "- reg_seller: 39.4%\n",
    "- warm: 17%"
   ]
  },
  {
   "cell_type": "markdown",
   "id": "f09acfe7",
   "metadata": {},
   "source": [
    "## Cleaning Process:\n",
    "1. There were different price for some stock codes, however the data did not show any indications as to why. As a result, for the final clean inventory list the unit price was adjusted to be a mean of prices for these products\n",
    "\n",
    "1. There were several miscellaneous stock codes included for things such as \"broken packages\", \"missed\", \"return\". The good descriptions, thankfully, for actual sales items had a trend of being in all caps, but there were some miscellaneous descriptions in all caps as well. To help with cleaning, an all lower case column was created so these unwanted descriptions were less likely to be missed. A handful of bad descriptions remain in data post cleaning as there was a wide variety of miscellaneous desctitions.  \n",
    "\n",
    "**Stock Code Cleaning Process to return only sales items:**\n",
    "\n",
    "1. Create an all lower case column so unwanted descriptions are less likely to be mised\n",
    "1. Create a list of found miscellaneous words and characters to filter out of data.\n",
    "\n",
    "**Category Creation Process:**\n",
    "    \n",
    "1. The first step was to break every description down to just individual words, and then count the occurences of each unique word in this list.\n",
    "1. Then a common word list was created from the words with more than 49 occurences.\n",
    "1. These common words were used to base the categories off. \n",
    "1. The categories are: SETS, Colors, Holidays, Material, Design, Jewelry, Vintage, Household\n",
    "1. Lists were then created containing the words that inspired the categories. These lists were used to display True if a description contained a word in the list for the matching category.\n",
    "1. Then more words were pulled from the less frequent words for the lists if they fit in the broader category.\n",
    "1. After that, there was a column created to display True or False if the description contained a common word(words with more than 49 occurences).\n",
    "1. Finally all True and False occurences were converted to (1) and (0) respectively to total for a sum. Sum is used to create MISC categroy for descriptions not falling into any category. \n",
    "    "
   ]
  },
  {
   "cell_type": "code",
   "execution_count": 2,
   "id": "2143f425",
   "metadata": {},
   "outputs": [],
   "source": [
    "import inventory.clean_sales_inventory\n",
    "from inventory.clean_sales_inventory import inventory_list, sales_by_stockCode, actual_sales_inventory\n",
    "import pandas as pd\n",
    "%matplotlib inline \n",
    "import matplotlib.pyplot as plt\n",
    "import numpy as np\n",
    "import random as random"
   ]
  },
  {
   "cell_type": "code",
   "execution_count": 3,
   "id": "fdae1cdb",
   "metadata": {},
   "outputs": [
    {
     "data": {
      "text/html": [
       "<div>\n",
       "<style scoped>\n",
       "    .dataframe tbody tr th:only-of-type {\n",
       "        vertical-align: middle;\n",
       "    }\n",
       "\n",
       "    .dataframe tbody tr th {\n",
       "        vertical-align: top;\n",
       "    }\n",
       "\n",
       "    .dataframe thead th {\n",
       "        text-align: right;\n",
       "    }\n",
       "</style>\n",
       "<table border=\"1\" class=\"dataframe\">\n",
       "  <thead>\n",
       "    <tr style=\"text-align: right;\">\n",
       "      <th></th>\n",
       "      <th>InvoiceNo</th>\n",
       "      <th>StockCode</th>\n",
       "      <th>Description</th>\n",
       "      <th>Quantity</th>\n",
       "      <th>InvoiceDate</th>\n",
       "      <th>UnitPrice</th>\n",
       "      <th>CustomerID</th>\n",
       "      <th>Country</th>\n",
       "    </tr>\n",
       "  </thead>\n",
       "  <tbody>\n",
       "    <tr>\n",
       "      <th>0</th>\n",
       "      <td>536365</td>\n",
       "      <td>85123A</td>\n",
       "      <td>WHITE HANGING HEART T-LIGHT HOLDER</td>\n",
       "      <td>6</td>\n",
       "      <td>12/1/2010 8:26</td>\n",
       "      <td>2.55</td>\n",
       "      <td>17850.0</td>\n",
       "      <td>United Kingdom</td>\n",
       "    </tr>\n",
       "    <tr>\n",
       "      <th>1</th>\n",
       "      <td>536365</td>\n",
       "      <td>71053</td>\n",
       "      <td>WHITE METAL LANTERN</td>\n",
       "      <td>6</td>\n",
       "      <td>12/1/2010 8:26</td>\n",
       "      <td>3.39</td>\n",
       "      <td>17850.0</td>\n",
       "      <td>United Kingdom</td>\n",
       "    </tr>\n",
       "    <tr>\n",
       "      <th>2</th>\n",
       "      <td>536365</td>\n",
       "      <td>84406B</td>\n",
       "      <td>CREAM CUPID HEARTS COAT HANGER</td>\n",
       "      <td>8</td>\n",
       "      <td>12/1/2010 8:26</td>\n",
       "      <td>2.75</td>\n",
       "      <td>17850.0</td>\n",
       "      <td>United Kingdom</td>\n",
       "    </tr>\n",
       "    <tr>\n",
       "      <th>3</th>\n",
       "      <td>536365</td>\n",
       "      <td>84029G</td>\n",
       "      <td>KNITTED UNION FLAG HOT WATER BOTTLE</td>\n",
       "      <td>6</td>\n",
       "      <td>12/1/2010 8:26</td>\n",
       "      <td>3.39</td>\n",
       "      <td>17850.0</td>\n",
       "      <td>United Kingdom</td>\n",
       "    </tr>\n",
       "    <tr>\n",
       "      <th>4</th>\n",
       "      <td>536365</td>\n",
       "      <td>84029E</td>\n",
       "      <td>RED WOOLLY HOTTIE WHITE HEART.</td>\n",
       "      <td>6</td>\n",
       "      <td>12/1/2010 8:26</td>\n",
       "      <td>3.39</td>\n",
       "      <td>17850.0</td>\n",
       "      <td>United Kingdom</td>\n",
       "    </tr>\n",
       "    <tr>\n",
       "      <th>...</th>\n",
       "      <td>...</td>\n",
       "      <td>...</td>\n",
       "      <td>...</td>\n",
       "      <td>...</td>\n",
       "      <td>...</td>\n",
       "      <td>...</td>\n",
       "      <td>...</td>\n",
       "      <td>...</td>\n",
       "    </tr>\n",
       "    <tr>\n",
       "      <th>495</th>\n",
       "      <td>536409</td>\n",
       "      <td>20669</td>\n",
       "      <td>RED HEART LUGGAGE TAG</td>\n",
       "      <td>1</td>\n",
       "      <td>12/1/2010 11:45</td>\n",
       "      <td>1.25</td>\n",
       "      <td>17908.0</td>\n",
       "      <td>United Kingdom</td>\n",
       "    </tr>\n",
       "    <tr>\n",
       "      <th>496</th>\n",
       "      <td>536409</td>\n",
       "      <td>90129F</td>\n",
       "      <td>RED GLASS TASSLE BAG CHARM</td>\n",
       "      <td>1</td>\n",
       "      <td>12/1/2010 11:45</td>\n",
       "      <td>2.95</td>\n",
       "      <td>17908.0</td>\n",
       "      <td>United Kingdom</td>\n",
       "    </tr>\n",
       "    <tr>\n",
       "      <th>497</th>\n",
       "      <td>536409</td>\n",
       "      <td>90210B</td>\n",
       "      <td>CLEAR ACRYLIC FACETED BANGLE</td>\n",
       "      <td>1</td>\n",
       "      <td>12/1/2010 11:45</td>\n",
       "      <td>2.95</td>\n",
       "      <td>17908.0</td>\n",
       "      <td>United Kingdom</td>\n",
       "    </tr>\n",
       "    <tr>\n",
       "      <th>498</th>\n",
       "      <td>536409</td>\n",
       "      <td>90199C</td>\n",
       "      <td>5 STRAND GLASS NECKLACE CRYSTAL</td>\n",
       "      <td>1</td>\n",
       "      <td>12/1/2010 11:45</td>\n",
       "      <td>6.35</td>\n",
       "      <td>17908.0</td>\n",
       "      <td>United Kingdom</td>\n",
       "    </tr>\n",
       "    <tr>\n",
       "      <th>499</th>\n",
       "      <td>536409</td>\n",
       "      <td>21955</td>\n",
       "      <td>DOORMAT UNION JACK GUNS AND ROSES</td>\n",
       "      <td>1</td>\n",
       "      <td>12/1/2010 11:45</td>\n",
       "      <td>7.95</td>\n",
       "      <td>17908.0</td>\n",
       "      <td>United Kingdom</td>\n",
       "    </tr>\n",
       "  </tbody>\n",
       "</table>\n",
       "<p>500 rows × 8 columns</p>\n",
       "</div>"
      ],
      "text/plain": [
       "    InvoiceNo StockCode                          Description  Quantity  \\\n",
       "0      536365    85123A   WHITE HANGING HEART T-LIGHT HOLDER         6   \n",
       "1      536365     71053                  WHITE METAL LANTERN         6   \n",
       "2      536365    84406B       CREAM CUPID HEARTS COAT HANGER         8   \n",
       "3      536365    84029G  KNITTED UNION FLAG HOT WATER BOTTLE         6   \n",
       "4      536365    84029E       RED WOOLLY HOTTIE WHITE HEART.         6   \n",
       "..        ...       ...                                  ...       ...   \n",
       "495    536409     20669                RED HEART LUGGAGE TAG         1   \n",
       "496    536409    90129F           RED GLASS TASSLE BAG CHARM         1   \n",
       "497    536409    90210B         CLEAR ACRYLIC FACETED BANGLE         1   \n",
       "498    536409    90199C      5 STRAND GLASS NECKLACE CRYSTAL         1   \n",
       "499    536409     21955    DOORMAT UNION JACK GUNS AND ROSES         1   \n",
       "\n",
       "         InvoiceDate  UnitPrice  CustomerID         Country  \n",
       "0     12/1/2010 8:26       2.55     17850.0  United Kingdom  \n",
       "1     12/1/2010 8:26       3.39     17850.0  United Kingdom  \n",
       "2     12/1/2010 8:26       2.75     17850.0  United Kingdom  \n",
       "3     12/1/2010 8:26       3.39     17850.0  United Kingdom  \n",
       "4     12/1/2010 8:26       3.39     17850.0  United Kingdom  \n",
       "..               ...        ...         ...             ...  \n",
       "495  12/1/2010 11:45       1.25     17908.0  United Kingdom  \n",
       "496  12/1/2010 11:45       2.95     17908.0  United Kingdom  \n",
       "497  12/1/2010 11:45       2.95     17908.0  United Kingdom  \n",
       "498  12/1/2010 11:45       6.35     17908.0  United Kingdom  \n",
       "499  12/1/2010 11:45       7.95     17908.0  United Kingdom  \n",
       "\n",
       "[500 rows x 8 columns]"
      ]
     },
     "execution_count": 3,
     "metadata": {},
     "output_type": "execute_result"
    }
   ],
   "source": [
    "# create sales_csv variable\n",
    "# Provided variable must be set to csv path, CSV file will need to contain the following columns: \n",
    "# \"Description\",\"StockCode\", \"InvoiceTotal\", \"Quantity\", and \"UnitPrice\"\n",
    "\n",
    "sales_csv = './Resources/data.csv'\n",
    "\n",
    "# display \n",
    "sales_csv_display = pd.read_csv(sales_csv, encoding= 'unicode_escape')\n",
    "sales_csv_display.head(500)"
   ]
  },
  {
   "cell_type": "markdown",
   "id": "3cbd1f42",
   "metadata": {},
   "source": [
    "## Create sales df"
   ]
  },
  {
   "cell_type": "code",
   "execution_count": 4,
   "id": "08448a4e",
   "metadata": {},
   "outputs": [
    {
     "name": "stdin",
     "output_type": "stream",
     "text": [
      "Please provide your sales csv path:  Resources/data.csv\n"
     ]
    }
   ],
   "source": [
    "# Use sales_by_stockCode() to create sales by stock code list\n",
    "# You must provide csv path to original Ecommerce Sales Data, must contain a StockCode and Description column to work\n",
    "sales_df = sales_by_stockCode()\n"
   ]
  },
  {
   "cell_type": "code",
   "execution_count": 5,
   "id": "65d889f3",
   "metadata": {},
   "outputs": [
    {
     "data": {
      "text/html": [
       "<div>\n",
       "<style scoped>\n",
       "    .dataframe tbody tr th:only-of-type {\n",
       "        vertical-align: middle;\n",
       "    }\n",
       "\n",
       "    .dataframe tbody tr th {\n",
       "        vertical-align: top;\n",
       "    }\n",
       "\n",
       "    .dataframe thead th {\n",
       "        text-align: right;\n",
       "    }\n",
       "</style>\n",
       "<table border=\"1\" class=\"dataframe\">\n",
       "  <thead>\n",
       "    <tr style=\"text-align: right;\">\n",
       "      <th></th>\n",
       "      <th>StockCode</th>\n",
       "      <th>TotalSales</th>\n",
       "      <th>Quantity</th>\n",
       "      <th>UnitPrice</th>\n",
       "    </tr>\n",
       "  </thead>\n",
       "  <tbody>\n",
       "    <tr>\n",
       "      <th>0</th>\n",
       "      <td>10002</td>\n",
       "      <td>759.89</td>\n",
       "      <td>1040</td>\n",
       "      <td>1.07</td>\n",
       "    </tr>\n",
       "    <tr>\n",
       "      <th>1</th>\n",
       "      <td>10080</td>\n",
       "      <td>119.09</td>\n",
       "      <td>495</td>\n",
       "      <td>0.38</td>\n",
       "    </tr>\n",
       "    <tr>\n",
       "      <th>2</th>\n",
       "      <td>10120</td>\n",
       "      <td>40.53</td>\n",
       "      <td>193</td>\n",
       "      <td>0.21</td>\n",
       "    </tr>\n",
       "    <tr>\n",
       "      <th>3</th>\n",
       "      <td>10123C</td>\n",
       "      <td>3.25</td>\n",
       "      <td>5</td>\n",
       "      <td>0.65</td>\n",
       "    </tr>\n",
       "    <tr>\n",
       "      <th>4</th>\n",
       "      <td>10124A</td>\n",
       "      <td>6.72</td>\n",
       "      <td>16</td>\n",
       "      <td>0.42</td>\n",
       "    </tr>\n",
       "    <tr>\n",
       "      <th>...</th>\n",
       "      <td>...</td>\n",
       "      <td>...</td>\n",
       "      <td>...</td>\n",
       "      <td>...</td>\n",
       "    </tr>\n",
       "    <tr>\n",
       "      <th>495</th>\n",
       "      <td>21291</td>\n",
       "      <td>819.64</td>\n",
       "      <td>943</td>\n",
       "      <td>1.03</td>\n",
       "    </tr>\n",
       "    <tr>\n",
       "      <th>496</th>\n",
       "      <td>21292</td>\n",
       "      <td>594.51</td>\n",
       "      <td>867</td>\n",
       "      <td>0.87</td>\n",
       "    </tr>\n",
       "    <tr>\n",
       "      <th>497</th>\n",
       "      <td>21293</td>\n",
       "      <td>276.72</td>\n",
       "      <td>116</td>\n",
       "      <td>2.67</td>\n",
       "    </tr>\n",
       "    <tr>\n",
       "      <th>498</th>\n",
       "      <td>21294</td>\n",
       "      <td>825.49</td>\n",
       "      <td>1718</td>\n",
       "      <td>0.83</td>\n",
       "    </tr>\n",
       "    <tr>\n",
       "      <th>499</th>\n",
       "      <td>21306</td>\n",
       "      <td>193.03</td>\n",
       "      <td>495</td>\n",
       "      <td>1.03</td>\n",
       "    </tr>\n",
       "  </tbody>\n",
       "</table>\n",
       "<p>500 rows × 4 columns</p>\n",
       "</div>"
      ],
      "text/plain": [
       "    StockCode  TotalSales  Quantity  UnitPrice\n",
       "0       10002      759.89      1040       1.07\n",
       "1       10080      119.09       495       0.38\n",
       "2       10120       40.53       193       0.21\n",
       "3      10123C        3.25         5       0.65\n",
       "4      10124A        6.72        16       0.42\n",
       "..        ...         ...       ...        ...\n",
       "495     21291      819.64       943       1.03\n",
       "496     21292      594.51       867       0.87\n",
       "497     21293      276.72       116       2.67\n",
       "498     21294      825.49      1718       0.83\n",
       "499     21306      193.03       495       1.03\n",
       "\n",
       "[500 rows x 4 columns]"
      ]
     },
     "execution_count": 5,
     "metadata": {},
     "output_type": "execute_result"
    }
   ],
   "source": [
    "# Display first 500 rows\n",
    "sales_df.head(500)"
   ]
  },
  {
   "cell_type": "markdown",
   "id": "f992ca04",
   "metadata": {},
   "source": [
    "# Create clean_inventory_list df of actual sales items"
   ]
  },
  {
   "cell_type": "code",
   "execution_count": 6,
   "id": "4261896f",
   "metadata": {
    "scrolled": true
   },
   "outputs": [
    {
     "name": "stdin",
     "output_type": "stream",
     "text": [
      "Please provide your sales csv path:  Resources/data.csv\n"
     ]
    }
   ],
   "source": [
    "# Use inventory_lis() to create list of actual sales items\n",
    "# You must provide csv path to original Ecommerce Sales Data, must contain a StockCode and Description column to work\n",
    "\n",
    "clean_inventory_list = inventory_list()"
   ]
  },
  {
   "cell_type": "code",
   "execution_count": 7,
   "id": "319274c2",
   "metadata": {},
   "outputs": [
    {
     "data": {
      "text/html": [
       "<div>\n",
       "<style scoped>\n",
       "    .dataframe tbody tr th:only-of-type {\n",
       "        vertical-align: middle;\n",
       "    }\n",
       "\n",
       "    .dataframe tbody tr th {\n",
       "        vertical-align: top;\n",
       "    }\n",
       "\n",
       "    .dataframe thead th {\n",
       "        text-align: right;\n",
       "    }\n",
       "</style>\n",
       "<table border=\"1\" class=\"dataframe\">\n",
       "  <thead>\n",
       "    <tr style=\"text-align: right;\">\n",
       "      <th></th>\n",
       "      <th>StockCode</th>\n",
       "      <th>Description</th>\n",
       "      <th>SETS</th>\n",
       "      <th>Colors</th>\n",
       "      <th>Material</th>\n",
       "      <th>Design</th>\n",
       "      <th>Jewelry</th>\n",
       "      <th>Household</th>\n",
       "      <th>MISC</th>\n",
       "    </tr>\n",
       "  </thead>\n",
       "  <tbody>\n",
       "    <tr>\n",
       "      <th>0</th>\n",
       "      <td>10002</td>\n",
       "      <td>INFLATABLE POLITICAL GLOBE</td>\n",
       "      <td>0</td>\n",
       "      <td>0</td>\n",
       "      <td>0</td>\n",
       "      <td>0</td>\n",
       "      <td>0</td>\n",
       "      <td>1</td>\n",
       "      <td>0</td>\n",
       "    </tr>\n",
       "    <tr>\n",
       "      <th>1</th>\n",
       "      <td>10080</td>\n",
       "      <td>GROOVY CACTUS INFLATABLE</td>\n",
       "      <td>0</td>\n",
       "      <td>0</td>\n",
       "      <td>0</td>\n",
       "      <td>0</td>\n",
       "      <td>0</td>\n",
       "      <td>1</td>\n",
       "      <td>0</td>\n",
       "    </tr>\n",
       "    <tr>\n",
       "      <th>2</th>\n",
       "      <td>10120</td>\n",
       "      <td>DOGGY RUBBER</td>\n",
       "      <td>0</td>\n",
       "      <td>0</td>\n",
       "      <td>0</td>\n",
       "      <td>1</td>\n",
       "      <td>0</td>\n",
       "      <td>0</td>\n",
       "      <td>0</td>\n",
       "    </tr>\n",
       "    <tr>\n",
       "      <th>3</th>\n",
       "      <td>10123C</td>\n",
       "      <td>HEARTS WRAPPING TAPE</td>\n",
       "      <td>0</td>\n",
       "      <td>0</td>\n",
       "      <td>0</td>\n",
       "      <td>1</td>\n",
       "      <td>0</td>\n",
       "      <td>0</td>\n",
       "      <td>0</td>\n",
       "    </tr>\n",
       "    <tr>\n",
       "      <th>4</th>\n",
       "      <td>10124A</td>\n",
       "      <td>SPOTS ON RED BOOKCOVER TAPE</td>\n",
       "      <td>0</td>\n",
       "      <td>1</td>\n",
       "      <td>0</td>\n",
       "      <td>0</td>\n",
       "      <td>0</td>\n",
       "      <td>1</td>\n",
       "      <td>0</td>\n",
       "    </tr>\n",
       "    <tr>\n",
       "      <th>...</th>\n",
       "      <td>...</td>\n",
       "      <td>...</td>\n",
       "      <td>...</td>\n",
       "      <td>...</td>\n",
       "      <td>...</td>\n",
       "      <td>...</td>\n",
       "      <td>...</td>\n",
       "      <td>...</td>\n",
       "      <td>...</td>\n",
       "    </tr>\n",
       "    <tr>\n",
       "      <th>495</th>\n",
       "      <td>21307</td>\n",
       "      <td>SET/4 BUTTERFLY MIRROR MAGNETS</td>\n",
       "      <td>1</td>\n",
       "      <td>0</td>\n",
       "      <td>0</td>\n",
       "      <td>1</td>\n",
       "      <td>0</td>\n",
       "      <td>0</td>\n",
       "      <td>0</td>\n",
       "    </tr>\n",
       "    <tr>\n",
       "      <th>496</th>\n",
       "      <td>21310</td>\n",
       "      <td>CAPIZ CHANDELIER</td>\n",
       "      <td>0</td>\n",
       "      <td>0</td>\n",
       "      <td>0</td>\n",
       "      <td>0</td>\n",
       "      <td>0</td>\n",
       "      <td>0</td>\n",
       "      <td>1</td>\n",
       "    </tr>\n",
       "    <tr>\n",
       "      <th>497</th>\n",
       "      <td>21311</td>\n",
       "      <td>SET/4 BIRD MIRROR MAGNETS</td>\n",
       "      <td>1</td>\n",
       "      <td>0</td>\n",
       "      <td>0</td>\n",
       "      <td>1</td>\n",
       "      <td>0</td>\n",
       "      <td>0</td>\n",
       "      <td>0</td>\n",
       "    </tr>\n",
       "    <tr>\n",
       "      <th>498</th>\n",
       "      <td>21313</td>\n",
       "      <td>GLASS HEART T-LIGHT HOLDER</td>\n",
       "      <td>0</td>\n",
       "      <td>0</td>\n",
       "      <td>1</td>\n",
       "      <td>1</td>\n",
       "      <td>0</td>\n",
       "      <td>0</td>\n",
       "      <td>0</td>\n",
       "    </tr>\n",
       "    <tr>\n",
       "      <th>499</th>\n",
       "      <td>21314</td>\n",
       "      <td>SMALL GLASS HEART TRINKET POT</td>\n",
       "      <td>0</td>\n",
       "      <td>0</td>\n",
       "      <td>1</td>\n",
       "      <td>1</td>\n",
       "      <td>0</td>\n",
       "      <td>1</td>\n",
       "      <td>0</td>\n",
       "    </tr>\n",
       "  </tbody>\n",
       "</table>\n",
       "<p>500 rows × 9 columns</p>\n",
       "</div>"
      ],
      "text/plain": [
       "    StockCode                     Description  SETS  Colors  Material  Design  \\\n",
       "0       10002     INFLATABLE POLITICAL GLOBE      0       0         0       0   \n",
       "1       10080        GROOVY CACTUS INFLATABLE     0       0         0       0   \n",
       "2       10120                    DOGGY RUBBER     0       0         0       1   \n",
       "3      10123C           HEARTS WRAPPING TAPE      0       0         0       1   \n",
       "4      10124A     SPOTS ON RED BOOKCOVER TAPE     0       1         0       0   \n",
       "..        ...                             ...   ...     ...       ...     ...   \n",
       "495     21307  SET/4 BUTTERFLY MIRROR MAGNETS     1       0         0       1   \n",
       "496     21310                CAPIZ CHANDELIER     0       0         0       0   \n",
       "497     21311      SET/4 BIRD MIRROR MAGNETS      1       0         0       1   \n",
       "498     21313     GLASS HEART T-LIGHT HOLDER      0       0         1       1   \n",
       "499     21314   SMALL GLASS HEART TRINKET POT     0       0         1       1   \n",
       "\n",
       "     Jewelry  Household  MISC  \n",
       "0          0          1     0  \n",
       "1          0          1     0  \n",
       "2          0          0     0  \n",
       "3          0          0     0  \n",
       "4          0          1     0  \n",
       "..       ...        ...   ...  \n",
       "495        0          0     0  \n",
       "496        0          0     1  \n",
       "497        0          0     0  \n",
       "498        0          0     0  \n",
       "499        0          1     0  \n",
       "\n",
       "[500 rows x 9 columns]"
      ]
     },
     "execution_count": 7,
     "metadata": {},
     "output_type": "execute_result"
    }
   ],
   "source": [
    "clean_inventory_list.head(500)"
   ]
  },
  {
   "cell_type": "markdown",
   "id": "c7efa751",
   "metadata": {},
   "source": [
    "# Finally create clean_sales_inventory list df"
   ]
  },
  {
   "cell_type": "code",
   "execution_count": 8,
   "id": "00391183",
   "metadata": {},
   "outputs": [
    {
     "data": {
      "text/plain": [
       "'Output_Data/sales_by_stockCode.csv'"
      ]
     },
     "execution_count": 8,
     "metadata": {},
     "output_type": "execute_result"
    }
   ],
   "source": [
    "# csv files, above functions will auto-create these csvs as long as you have an Output_Data subfolder in your folder\n",
    "\"Output_Data/actual_inventory.csv\"\n",
    "\"Output_Data/sales_by_stockCode.csv\""
   ]
  },
  {
   "cell_type": "code",
   "execution_count": 9,
   "id": "e44e1ec1",
   "metadata": {
    "scrolled": true
   },
   "outputs": [
    {
     "name": "stdin",
     "output_type": "stream",
     "text": [
      "Please provide your actual sales inventory csv path:  Output_Data/actual_inventory.csv\n",
      "Please provide your sales by stockCode csv path:  Output_Data/sales_by_stockCode.csv\n"
     ]
    }
   ],
   "source": [
    "# Use actual_sales_inventory to create the clean sales inventory df\n",
    "# Supplied variables must be set to your clean sales by stock code csv path and your clean inventory list csv path\n",
    "\n",
    "# final clean sales inventory list\n",
    "clean_sales = actual_sales_inventory()\n"
   ]
  },
  {
   "cell_type": "code",
   "execution_count": 10,
   "id": "c4e705e1",
   "metadata": {},
   "outputs": [
    {
     "data": {
      "text/html": [
       "<div>\n",
       "<style scoped>\n",
       "    .dataframe tbody tr th:only-of-type {\n",
       "        vertical-align: middle;\n",
       "    }\n",
       "\n",
       "    .dataframe tbody tr th {\n",
       "        vertical-align: top;\n",
       "    }\n",
       "\n",
       "    .dataframe thead th {\n",
       "        text-align: right;\n",
       "    }\n",
       "</style>\n",
       "<table border=\"1\" class=\"dataframe\">\n",
       "  <thead>\n",
       "    <tr style=\"text-align: right;\">\n",
       "      <th></th>\n",
       "      <th>StockCode</th>\n",
       "      <th>Description</th>\n",
       "      <th>SETS</th>\n",
       "      <th>Colors</th>\n",
       "      <th>Material</th>\n",
       "      <th>Design</th>\n",
       "      <th>Jewelry</th>\n",
       "      <th>Household</th>\n",
       "      <th>MISC</th>\n",
       "      <th>TotalSales</th>\n",
       "      <th>Quantity</th>\n",
       "      <th>UnitPrice</th>\n",
       "      <th>Price_Category</th>\n",
       "      <th>Sales_Frequency</th>\n",
       "    </tr>\n",
       "  </thead>\n",
       "  <tbody>\n",
       "    <tr>\n",
       "      <th>0</th>\n",
       "      <td>10002</td>\n",
       "      <td>INFLATABLE POLITICAL GLOBE</td>\n",
       "      <td>0</td>\n",
       "      <td>0</td>\n",
       "      <td>0</td>\n",
       "      <td>0</td>\n",
       "      <td>0</td>\n",
       "      <td>1</td>\n",
       "      <td>0</td>\n",
       "      <td>759.890</td>\n",
       "      <td>1040</td>\n",
       "      <td>1.07</td>\n",
       "      <td>cheap</td>\n",
       "      <td>reg_seller</td>\n",
       "    </tr>\n",
       "    <tr>\n",
       "      <th>1</th>\n",
       "      <td>10080</td>\n",
       "      <td>GROOVY CACTUS INFLATABLE</td>\n",
       "      <td>0</td>\n",
       "      <td>0</td>\n",
       "      <td>0</td>\n",
       "      <td>0</td>\n",
       "      <td>0</td>\n",
       "      <td>1</td>\n",
       "      <td>0</td>\n",
       "      <td>119.090</td>\n",
       "      <td>495</td>\n",
       "      <td>0.38</td>\n",
       "      <td>cheap</td>\n",
       "      <td>warm</td>\n",
       "    </tr>\n",
       "    <tr>\n",
       "      <th>2</th>\n",
       "      <td>10120</td>\n",
       "      <td>DOGGY RUBBER</td>\n",
       "      <td>0</td>\n",
       "      <td>0</td>\n",
       "      <td>0</td>\n",
       "      <td>1</td>\n",
       "      <td>0</td>\n",
       "      <td>0</td>\n",
       "      <td>0</td>\n",
       "      <td>40.530</td>\n",
       "      <td>193</td>\n",
       "      <td>0.21</td>\n",
       "      <td>cheap</td>\n",
       "      <td>warm</td>\n",
       "    </tr>\n",
       "    <tr>\n",
       "      <th>3</th>\n",
       "      <td>10123C</td>\n",
       "      <td>HEARTS WRAPPING TAPE</td>\n",
       "      <td>0</td>\n",
       "      <td>0</td>\n",
       "      <td>0</td>\n",
       "      <td>1</td>\n",
       "      <td>0</td>\n",
       "      <td>0</td>\n",
       "      <td>0</td>\n",
       "      <td>3.250</td>\n",
       "      <td>5</td>\n",
       "      <td>0.65</td>\n",
       "      <td>cheap</td>\n",
       "      <td>cold</td>\n",
       "    </tr>\n",
       "    <tr>\n",
       "      <th>4</th>\n",
       "      <td>10124A</td>\n",
       "      <td>SPOTS ON RED BOOKCOVER TAPE</td>\n",
       "      <td>0</td>\n",
       "      <td>1</td>\n",
       "      <td>0</td>\n",
       "      <td>0</td>\n",
       "      <td>0</td>\n",
       "      <td>1</td>\n",
       "      <td>0</td>\n",
       "      <td>6.720</td>\n",
       "      <td>16</td>\n",
       "      <td>0.42</td>\n",
       "      <td>cheap</td>\n",
       "      <td>cold</td>\n",
       "    </tr>\n",
       "    <tr>\n",
       "      <th>...</th>\n",
       "      <td>...</td>\n",
       "      <td>...</td>\n",
       "      <td>...</td>\n",
       "      <td>...</td>\n",
       "      <td>...</td>\n",
       "      <td>...</td>\n",
       "      <td>...</td>\n",
       "      <td>...</td>\n",
       "      <td>...</td>\n",
       "      <td>...</td>\n",
       "      <td>...</td>\n",
       "      <td>...</td>\n",
       "      <td>...</td>\n",
       "      <td>...</td>\n",
       "    </tr>\n",
       "    <tr>\n",
       "      <th>3987</th>\n",
       "      <td>DCGS0070</td>\n",
       "      <td>CAMOUFLAGE DOG COLLAR</td>\n",
       "      <td>0</td>\n",
       "      <td>0</td>\n",
       "      <td>0</td>\n",
       "      <td>1</td>\n",
       "      <td>0</td>\n",
       "      <td>0</td>\n",
       "      <td>0</td>\n",
       "      <td>12.720</td>\n",
       "      <td>1</td>\n",
       "      <td>12.72</td>\n",
       "      <td>medium</td>\n",
       "      <td>cold</td>\n",
       "    </tr>\n",
       "    <tr>\n",
       "      <th>3988</th>\n",
       "      <td>DCGS0076</td>\n",
       "      <td>SUNJAR LED NIGHT NIGHT LIGHT</td>\n",
       "      <td>0</td>\n",
       "      <td>0</td>\n",
       "      <td>0</td>\n",
       "      <td>0</td>\n",
       "      <td>0</td>\n",
       "      <td>1</td>\n",
       "      <td>0</td>\n",
       "      <td>48.390</td>\n",
       "      <td>3</td>\n",
       "      <td>16.13</td>\n",
       "      <td>medium</td>\n",
       "      <td>cold</td>\n",
       "    </tr>\n",
       "    <tr>\n",
       "      <th>3989</th>\n",
       "      <td>DCGSSBOY</td>\n",
       "      <td>BOYS PARTY BAG</td>\n",
       "      <td>0</td>\n",
       "      <td>0</td>\n",
       "      <td>0</td>\n",
       "      <td>1</td>\n",
       "      <td>0</td>\n",
       "      <td>0</td>\n",
       "      <td>0</td>\n",
       "      <td>150.550</td>\n",
       "      <td>47</td>\n",
       "      <td>3.10</td>\n",
       "      <td>cheap</td>\n",
       "      <td>cold</td>\n",
       "    </tr>\n",
       "    <tr>\n",
       "      <th>3990</th>\n",
       "      <td>DCGSSGIRL</td>\n",
       "      <td>GIRLS PARTY BAG</td>\n",
       "      <td>0</td>\n",
       "      <td>0</td>\n",
       "      <td>0</td>\n",
       "      <td>1</td>\n",
       "      <td>0</td>\n",
       "      <td>0</td>\n",
       "      <td>0</td>\n",
       "      <td>144.430</td>\n",
       "      <td>47</td>\n",
       "      <td>3.13</td>\n",
       "      <td>cheap</td>\n",
       "      <td>cold</td>\n",
       "    </tr>\n",
       "    <tr>\n",
       "      <th>3991</th>\n",
       "      <td>PADS</td>\n",
       "      <td>PADS TO MATCH ALL CUSHIONS</td>\n",
       "      <td>0</td>\n",
       "      <td>0</td>\n",
       "      <td>0</td>\n",
       "      <td>0</td>\n",
       "      <td>0</td>\n",
       "      <td>1</td>\n",
       "      <td>0</td>\n",
       "      <td>0.003</td>\n",
       "      <td>4</td>\n",
       "      <td>0.00</td>\n",
       "      <td>cheap</td>\n",
       "      <td>cold</td>\n",
       "    </tr>\n",
       "  </tbody>\n",
       "</table>\n",
       "<p>3992 rows × 14 columns</p>\n",
       "</div>"
      ],
      "text/plain": [
       "      StockCode                   Description  SETS  Colors  Material  Design  \\\n",
       "0         10002   INFLATABLE POLITICAL GLOBE      0       0         0       0   \n",
       "1         10080      GROOVY CACTUS INFLATABLE     0       0         0       0   \n",
       "2         10120                  DOGGY RUBBER     0       0         0       1   \n",
       "3        10123C         HEARTS WRAPPING TAPE      0       0         0       1   \n",
       "4        10124A   SPOTS ON RED BOOKCOVER TAPE     0       1         0       0   \n",
       "...         ...                           ...   ...     ...       ...     ...   \n",
       "3987   DCGS0070         CAMOUFLAGE DOG COLLAR     0       0         0       1   \n",
       "3988   DCGS0076  SUNJAR LED NIGHT NIGHT LIGHT     0       0         0       0   \n",
       "3989   DCGSSBOY                BOYS PARTY BAG     0       0         0       1   \n",
       "3990  DCGSSGIRL               GIRLS PARTY BAG     0       0         0       1   \n",
       "3991       PADS    PADS TO MATCH ALL CUSHIONS     0       0         0       0   \n",
       "\n",
       "      Jewelry  Household  MISC  TotalSales  Quantity  UnitPrice  \\\n",
       "0           0          1     0     759.890      1040       1.07   \n",
       "1           0          1     0     119.090       495       0.38   \n",
       "2           0          0     0      40.530       193       0.21   \n",
       "3           0          0     0       3.250         5       0.65   \n",
       "4           0          1     0       6.720        16       0.42   \n",
       "...       ...        ...   ...         ...       ...        ...   \n",
       "3987        0          0     0      12.720         1      12.72   \n",
       "3988        0          1     0      48.390         3      16.13   \n",
       "3989        0          0     0     150.550        47       3.10   \n",
       "3990        0          0     0     144.430        47       3.13   \n",
       "3991        0          1     0       0.003         4       0.00   \n",
       "\n",
       "     Price_Category Sales_Frequency  \n",
       "0             cheap      reg_seller  \n",
       "1             cheap            warm  \n",
       "2             cheap            warm  \n",
       "3             cheap            cold  \n",
       "4             cheap            cold  \n",
       "...             ...             ...  \n",
       "3987         medium            cold  \n",
       "3988         medium            cold  \n",
       "3989          cheap            cold  \n",
       "3990          cheap            cold  \n",
       "3991          cheap            cold  \n",
       "\n",
       "[3992 rows x 14 columns]"
      ]
     },
     "execution_count": 10,
     "metadata": {},
     "output_type": "execute_result"
    }
   ],
   "source": [
    "# Display first 500 rows\n",
    "clean_sales"
   ]
  },
  {
   "cell_type": "markdown",
   "id": "16dd00b2",
   "metadata": {},
   "source": [
    "# Analysis of our clean actual sales inventory"
   ]
  },
  {
   "cell_type": "markdown",
   "id": "b0654d9c",
   "metadata": {},
   "source": [
    "### Unit Price Analysis section:"
   ]
  },
  {
   "cell_type": "markdown",
   "id": "9e02682a",
   "metadata": {},
   "source": [
    "## Pricey items"
   ]
  },
  {
   "cell_type": "code",
   "execution_count": 11,
   "id": "e37bdc0e",
   "metadata": {
    "scrolled": true
   },
   "outputs": [],
   "source": [
    "# Display all items with a unit price higer than $20\n",
    "pricey_items = clean_sales.loc[clean_sales['UnitPrice'] > 20]"
   ]
  },
  {
   "cell_type": "code",
   "execution_count": 12,
   "id": "31864342",
   "metadata": {
    "scrolled": true
   },
   "outputs": [
    {
     "data": {
      "text/html": [
       "<div>\n",
       "<style scoped>\n",
       "    .dataframe tbody tr th:only-of-type {\n",
       "        vertical-align: middle;\n",
       "    }\n",
       "\n",
       "    .dataframe tbody tr th {\n",
       "        vertical-align: top;\n",
       "    }\n",
       "\n",
       "    .dataframe thead th {\n",
       "        text-align: right;\n",
       "    }\n",
       "</style>\n",
       "<table border=\"1\" class=\"dataframe\">\n",
       "  <thead>\n",
       "    <tr style=\"text-align: right;\">\n",
       "      <th></th>\n",
       "      <th>StockCode</th>\n",
       "      <th>Description</th>\n",
       "      <th>SETS</th>\n",
       "      <th>Colors</th>\n",
       "      <th>Material</th>\n",
       "      <th>Design</th>\n",
       "      <th>Jewelry</th>\n",
       "      <th>Household</th>\n",
       "      <th>MISC</th>\n",
       "      <th>TotalSales</th>\n",
       "      <th>Quantity</th>\n",
       "      <th>UnitPrice</th>\n",
       "      <th>Price_Category</th>\n",
       "      <th>Sales_Frequency</th>\n",
       "    </tr>\n",
       "  </thead>\n",
       "  <tbody>\n",
       "    <tr>\n",
       "      <th>211</th>\n",
       "      <td>20785</td>\n",
       "      <td>FUSCHIA RETRO BAR STOOL</td>\n",
       "      <td>0</td>\n",
       "      <td>0</td>\n",
       "      <td>0</td>\n",
       "      <td>0</td>\n",
       "      <td>0</td>\n",
       "      <td>0</td>\n",
       "      <td>1</td>\n",
       "      <td>523.30</td>\n",
       "      <td>14</td>\n",
       "      <td>39.15</td>\n",
       "      <td>high</td>\n",
       "      <td>cold</td>\n",
       "    </tr>\n",
       "    <tr>\n",
       "      <th>254</th>\n",
       "      <td>20892</td>\n",
       "      <td>SET/3 TALL GLASS CANDLE HOLDER PINK</td>\n",
       "      <td>1</td>\n",
       "      <td>1</td>\n",
       "      <td>1</td>\n",
       "      <td>0</td>\n",
       "      <td>0</td>\n",
       "      <td>1</td>\n",
       "      <td>0</td>\n",
       "      <td>89.22</td>\n",
       "      <td>4</td>\n",
       "      <td>21.24</td>\n",
       "      <td>high</td>\n",
       "      <td>cold</td>\n",
       "    </tr>\n",
       "    <tr>\n",
       "      <th>478</th>\n",
       "      <td>21277</td>\n",
       "      <td>FRENCH STYLE EMBOSSED HEART CABINET</td>\n",
       "      <td>0</td>\n",
       "      <td>0</td>\n",
       "      <td>0</td>\n",
       "      <td>1</td>\n",
       "      <td>0</td>\n",
       "      <td>1</td>\n",
       "      <td>0</td>\n",
       "      <td>571.43</td>\n",
       "      <td>26</td>\n",
       "      <td>22.26</td>\n",
       "      <td>high</td>\n",
       "      <td>cold</td>\n",
       "    </tr>\n",
       "    <tr>\n",
       "      <th>495</th>\n",
       "      <td>21310</td>\n",
       "      <td>CAPIZ CHANDELIER</td>\n",
       "      <td>0</td>\n",
       "      <td>0</td>\n",
       "      <td>0</td>\n",
       "      <td>0</td>\n",
       "      <td>0</td>\n",
       "      <td>0</td>\n",
       "      <td>1</td>\n",
       "      <td>29.95</td>\n",
       "      <td>1</td>\n",
       "      <td>29.95</td>\n",
       "      <td>high</td>\n",
       "      <td>cold</td>\n",
       "    </tr>\n",
       "    <tr>\n",
       "      <th>611</th>\n",
       "      <td>21473</td>\n",
       "      <td>SWEETHEART CREAM STEEL TABLE RECT</td>\n",
       "      <td>0</td>\n",
       "      <td>0</td>\n",
       "      <td>0</td>\n",
       "      <td>1</td>\n",
       "      <td>0</td>\n",
       "      <td>1</td>\n",
       "      <td>0</td>\n",
       "      <td>618.66</td>\n",
       "      <td>27</td>\n",
       "      <td>23.76</td>\n",
       "      <td>high</td>\n",
       "      <td>cold</td>\n",
       "    </tr>\n",
       "    <tr>\n",
       "      <th>687</th>\n",
       "      <td>21627</td>\n",
       "      <td>ELEPHANT CARNIVAL POUFFE</td>\n",
       "      <td>0</td>\n",
       "      <td>0</td>\n",
       "      <td>0</td>\n",
       "      <td>0</td>\n",
       "      <td>0</td>\n",
       "      <td>0</td>\n",
       "      <td>1</td>\n",
       "      <td>1299.83</td>\n",
       "      <td>63</td>\n",
       "      <td>21.96</td>\n",
       "      <td>high</td>\n",
       "      <td>cold</td>\n",
       "    </tr>\n",
       "    <tr>\n",
       "      <th>688</th>\n",
       "      <td>21628</td>\n",
       "      <td>TRIANGULAR POUFFE VINTAGE</td>\n",
       "      <td>0</td>\n",
       "      <td>0</td>\n",
       "      <td>0</td>\n",
       "      <td>1</td>\n",
       "      <td>0</td>\n",
       "      <td>0</td>\n",
       "      <td>0</td>\n",
       "      <td>1176.60</td>\n",
       "      <td>64</td>\n",
       "      <td>21.55</td>\n",
       "      <td>high</td>\n",
       "      <td>cold</td>\n",
       "    </tr>\n",
       "    <tr>\n",
       "      <th>734</th>\n",
       "      <td>21686</td>\n",
       "      <td>MEDINA STAMPED METAL STOOL</td>\n",
       "      <td>0</td>\n",
       "      <td>0</td>\n",
       "      <td>1</td>\n",
       "      <td>0</td>\n",
       "      <td>0</td>\n",
       "      <td>0</td>\n",
       "      <td>0</td>\n",
       "      <td>1351.64</td>\n",
       "      <td>37</td>\n",
       "      <td>37.97</td>\n",
       "      <td>high</td>\n",
       "      <td>cold</td>\n",
       "    </tr>\n",
       "    <tr>\n",
       "      <th>786</th>\n",
       "      <td>21761</td>\n",
       "      <td>WOOD AND GLASS MEDICINE CABINET</td>\n",
       "      <td>0</td>\n",
       "      <td>0</td>\n",
       "      <td>1</td>\n",
       "      <td>0</td>\n",
       "      <td>0</td>\n",
       "      <td>1</td>\n",
       "      <td>0</td>\n",
       "      <td>299.50</td>\n",
       "      <td>10</td>\n",
       "      <td>29.95</td>\n",
       "      <td>high</td>\n",
       "      <td>cold</td>\n",
       "    </tr>\n",
       "    <tr>\n",
       "      <th>787</th>\n",
       "      <td>21763</td>\n",
       "      <td>VINTAGE WOODEN BAR STOOL</td>\n",
       "      <td>0</td>\n",
       "      <td>0</td>\n",
       "      <td>1</td>\n",
       "      <td>1</td>\n",
       "      <td>0</td>\n",
       "      <td>0</td>\n",
       "      <td>0</td>\n",
       "      <td>169.75</td>\n",
       "      <td>7</td>\n",
       "      <td>21.97</td>\n",
       "      <td>high</td>\n",
       "      <td>cold</td>\n",
       "    </tr>\n",
       "    <tr>\n",
       "      <th>788</th>\n",
       "      <td>21769</td>\n",
       "      <td>VINTAGE POST OFFICE CABINET</td>\n",
       "      <td>0</td>\n",
       "      <td>0</td>\n",
       "      <td>0</td>\n",
       "      <td>1</td>\n",
       "      <td>0</td>\n",
       "      <td>1</td>\n",
       "      <td>0</td>\n",
       "      <td>607.65</td>\n",
       "      <td>11</td>\n",
       "      <td>66.36</td>\n",
       "      <td>high</td>\n",
       "      <td>cold</td>\n",
       "    </tr>\n",
       "    <tr>\n",
       "      <th>1399</th>\n",
       "      <td>22503</td>\n",
       "      <td>CABIN BAG VINTAGE PAISLEY</td>\n",
       "      <td>0</td>\n",
       "      <td>0</td>\n",
       "      <td>0</td>\n",
       "      <td>1</td>\n",
       "      <td>0</td>\n",
       "      <td>0</td>\n",
       "      <td>0</td>\n",
       "      <td>2010.12</td>\n",
       "      <td>99</td>\n",
       "      <td>22.51</td>\n",
       "      <td>high</td>\n",
       "      <td>cold</td>\n",
       "    </tr>\n",
       "    <tr>\n",
       "      <th>1400</th>\n",
       "      <td>22504</td>\n",
       "      <td>CABIN BAG VINTAGE RETROSPOT</td>\n",
       "      <td>0</td>\n",
       "      <td>0</td>\n",
       "      <td>0</td>\n",
       "      <td>1</td>\n",
       "      <td>0</td>\n",
       "      <td>1</td>\n",
       "      <td>0</td>\n",
       "      <td>4674.62</td>\n",
       "      <td>247</td>\n",
       "      <td>22.48</td>\n",
       "      <td>high</td>\n",
       "      <td>warm</td>\n",
       "    </tr>\n",
       "    <tr>\n",
       "      <th>1549</th>\n",
       "      <td>22655</td>\n",
       "      <td>VINTAGE RED KITCHEN CABINET</td>\n",
       "      <td>0</td>\n",
       "      <td>1</td>\n",
       "      <td>0</td>\n",
       "      <td>1</td>\n",
       "      <td>0</td>\n",
       "      <td>1</td>\n",
       "      <td>0</td>\n",
       "      <td>8125.00</td>\n",
       "      <td>60</td>\n",
       "      <td>143.42</td>\n",
       "      <td>high</td>\n",
       "      <td>cold</td>\n",
       "    </tr>\n",
       "    <tr>\n",
       "      <th>1550</th>\n",
       "      <td>22656</td>\n",
       "      <td>VINTAGE BLUE KITCHEN CABINET</td>\n",
       "      <td>0</td>\n",
       "      <td>1</td>\n",
       "      <td>0</td>\n",
       "      <td>1</td>\n",
       "      <td>0</td>\n",
       "      <td>1</td>\n",
       "      <td>0</td>\n",
       "      <td>3685.00</td>\n",
       "      <td>26</td>\n",
       "      <td>146.75</td>\n",
       "      <td>high</td>\n",
       "      <td>cold</td>\n",
       "    </tr>\n",
       "    <tr>\n",
       "      <th>1651</th>\n",
       "      <td>22761</td>\n",
       "      <td>CHEST 7 DRAWER MA CAMPAGNE</td>\n",
       "      <td>0</td>\n",
       "      <td>0</td>\n",
       "      <td>0</td>\n",
       "      <td>0</td>\n",
       "      <td>0</td>\n",
       "      <td>0</td>\n",
       "      <td>1</td>\n",
       "      <td>895.38</td>\n",
       "      <td>36</td>\n",
       "      <td>25.53</td>\n",
       "      <td>high</td>\n",
       "      <td>cold</td>\n",
       "    </tr>\n",
       "    <tr>\n",
       "      <th>1654</th>\n",
       "      <td>22764</td>\n",
       "      <td>RUSTIC WOODEN CABINET, GLASS DOORS</td>\n",
       "      <td>0</td>\n",
       "      <td>0</td>\n",
       "      <td>1</td>\n",
       "      <td>0</td>\n",
       "      <td>0</td>\n",
       "      <td>1</td>\n",
       "      <td>0</td>\n",
       "      <td>174.77</td>\n",
       "      <td>8</td>\n",
       "      <td>24.96</td>\n",
       "      <td>high</td>\n",
       "      <td>cold</td>\n",
       "    </tr>\n",
       "    <tr>\n",
       "      <th>1659</th>\n",
       "      <td>22769</td>\n",
       "      <td>CHALKBOARD KITCHEN ORGANISER</td>\n",
       "      <td>0</td>\n",
       "      <td>0</td>\n",
       "      <td>0</td>\n",
       "      <td>0</td>\n",
       "      <td>0</td>\n",
       "      <td>1</td>\n",
       "      <td>0</td>\n",
       "      <td>366.73</td>\n",
       "      <td>11</td>\n",
       "      <td>37.61</td>\n",
       "      <td>high</td>\n",
       "      <td>cold</td>\n",
       "    </tr>\n",
       "    <tr>\n",
       "      <th>1695</th>\n",
       "      <td>22803</td>\n",
       "      <td>IVORY EMBROIDERED QUILT</td>\n",
       "      <td>0</td>\n",
       "      <td>1</td>\n",
       "      <td>0</td>\n",
       "      <td>0</td>\n",
       "      <td>0</td>\n",
       "      <td>1</td>\n",
       "      <td>0</td>\n",
       "      <td>2038.09</td>\n",
       "      <td>54</td>\n",
       "      <td>38.97</td>\n",
       "      <td>high</td>\n",
       "      <td>cold</td>\n",
       "    </tr>\n",
       "    <tr>\n",
       "      <th>1718</th>\n",
       "      <td>22823</td>\n",
       "      <td>CHEST NATURAL WOOD 20 DRAWERS</td>\n",
       "      <td>0</td>\n",
       "      <td>0</td>\n",
       "      <td>1</td>\n",
       "      <td>0</td>\n",
       "      <td>0</td>\n",
       "      <td>0</td>\n",
       "      <td>0</td>\n",
       "      <td>2745.00</td>\n",
       "      <td>46</td>\n",
       "      <td>109.64</td>\n",
       "      <td>high</td>\n",
       "      <td>cold</td>\n",
       "    </tr>\n",
       "    <tr>\n",
       "      <th>1719</th>\n",
       "      <td>22824</td>\n",
       "      <td>3 TIER SWEETHEART GARDEN SHELF</td>\n",
       "      <td>0</td>\n",
       "      <td>0</td>\n",
       "      <td>0</td>\n",
       "      <td>1</td>\n",
       "      <td>0</td>\n",
       "      <td>1</td>\n",
       "      <td>0</td>\n",
       "      <td>1938.25</td>\n",
       "      <td>55</td>\n",
       "      <td>35.67</td>\n",
       "      <td>high</td>\n",
       "      <td>cold</td>\n",
       "    </tr>\n",
       "    <tr>\n",
       "      <th>1721</th>\n",
       "      <td>22826</td>\n",
       "      <td>LOVE SEAT ANTIQUE WHITE METAL</td>\n",
       "      <td>0</td>\n",
       "      <td>1</td>\n",
       "      <td>1</td>\n",
       "      <td>1</td>\n",
       "      <td>0</td>\n",
       "      <td>0</td>\n",
       "      <td>0</td>\n",
       "      <td>6210.00</td>\n",
       "      <td>58</td>\n",
       "      <td>114.02</td>\n",
       "      <td>high</td>\n",
       "      <td>cold</td>\n",
       "    </tr>\n",
       "    <tr>\n",
       "      <th>1722</th>\n",
       "      <td>22827</td>\n",
       "      <td>RUSTIC  SEVENTEEN DRAWER SIDEBOARD</td>\n",
       "      <td>0</td>\n",
       "      <td>0</td>\n",
       "      <td>0</td>\n",
       "      <td>0</td>\n",
       "      <td>0</td>\n",
       "      <td>0</td>\n",
       "      <td>1</td>\n",
       "      <td>5415.00</td>\n",
       "      <td>39</td>\n",
       "      <td>152.22</td>\n",
       "      <td>high</td>\n",
       "      <td>cold</td>\n",
       "    </tr>\n",
       "    <tr>\n",
       "      <th>1723</th>\n",
       "      <td>22828</td>\n",
       "      <td>REGENCY MIRROR WITH SHUTTERS</td>\n",
       "      <td>0</td>\n",
       "      <td>0</td>\n",
       "      <td>0</td>\n",
       "      <td>0</td>\n",
       "      <td>0</td>\n",
       "      <td>0</td>\n",
       "      <td>1</td>\n",
       "      <td>1530.00</td>\n",
       "      <td>10</td>\n",
       "      <td>156.43</td>\n",
       "      <td>high</td>\n",
       "      <td>cold</td>\n",
       "    </tr>\n",
       "    <tr>\n",
       "      <th>1728</th>\n",
       "      <td>22833</td>\n",
       "      <td>HALL CABINET WITH 3 DRAWERS</td>\n",
       "      <td>0</td>\n",
       "      <td>0</td>\n",
       "      <td>0</td>\n",
       "      <td>0</td>\n",
       "      <td>0</td>\n",
       "      <td>1</td>\n",
       "      <td>0</td>\n",
       "      <td>2603.53</td>\n",
       "      <td>77</td>\n",
       "      <td>47.09</td>\n",
       "      <td>high</td>\n",
       "      <td>cold</td>\n",
       "    </tr>\n",
       "    <tr>\n",
       "      <th>1823</th>\n",
       "      <td>22929</td>\n",
       "      <td>SCHOOL DESK AND CHAIR</td>\n",
       "      <td>0</td>\n",
       "      <td>0</td>\n",
       "      <td>0</td>\n",
       "      <td>0</td>\n",
       "      <td>0</td>\n",
       "      <td>0</td>\n",
       "      <td>1</td>\n",
       "      <td>1199.75</td>\n",
       "      <td>19</td>\n",
       "      <td>63.92</td>\n",
       "      <td>high</td>\n",
       "      <td>cold</td>\n",
       "    </tr>\n",
       "    <tr>\n",
       "      <th>1980</th>\n",
       "      <td>23064</td>\n",
       "      <td>CINDERELLA CHANDELIER</td>\n",
       "      <td>0</td>\n",
       "      <td>0</td>\n",
       "      <td>0</td>\n",
       "      <td>0</td>\n",
       "      <td>0</td>\n",
       "      <td>0</td>\n",
       "      <td>1</td>\n",
       "      <td>3717.56</td>\n",
       "      <td>221</td>\n",
       "      <td>45.49</td>\n",
       "      <td>high</td>\n",
       "      <td>warm</td>\n",
       "    </tr>\n",
       "    <tr>\n",
       "      <th>2442</th>\n",
       "      <td>23462</td>\n",
       "      <td>ROCOCO WALL MIROR</td>\n",
       "      <td>0</td>\n",
       "      <td>0</td>\n",
       "      <td>0</td>\n",
       "      <td>0</td>\n",
       "      <td>0</td>\n",
       "      <td>0</td>\n",
       "      <td>1</td>\n",
       "      <td>1607.04</td>\n",
       "      <td>80</td>\n",
       "      <td>20.70</td>\n",
       "      <td>high</td>\n",
       "      <td>cold</td>\n",
       "    </tr>\n",
       "    <tr>\n",
       "      <th>2443</th>\n",
       "      <td>23462</td>\n",
       "      <td>ROCOCO WALL MIRROR WHITE</td>\n",
       "      <td>0</td>\n",
       "      <td>1</td>\n",
       "      <td>0</td>\n",
       "      <td>0</td>\n",
       "      <td>0</td>\n",
       "      <td>0</td>\n",
       "      <td>0</td>\n",
       "      <td>1607.04</td>\n",
       "      <td>80</td>\n",
       "      <td>20.70</td>\n",
       "      <td>high</td>\n",
       "      <td>cold</td>\n",
       "    </tr>\n",
       "    <tr>\n",
       "      <th>2469</th>\n",
       "      <td>23485</td>\n",
       "      <td>BOTANICAL GARDENS WALL CLOCK</td>\n",
       "      <td>0</td>\n",
       "      <td>0</td>\n",
       "      <td>0</td>\n",
       "      <td>0</td>\n",
       "      <td>0</td>\n",
       "      <td>1</td>\n",
       "      <td>0</td>\n",
       "      <td>5843.92</td>\n",
       "      <td>262</td>\n",
       "      <td>24.79</td>\n",
       "      <td>high</td>\n",
       "      <td>warm</td>\n",
       "    </tr>\n",
       "    <tr>\n",
       "      <th>3052</th>\n",
       "      <td>84078A</td>\n",
       "      <td>SET/4 WHITE RETRO STORAGE CUBES</td>\n",
       "      <td>1</td>\n",
       "      <td>1</td>\n",
       "      <td>0</td>\n",
       "      <td>0</td>\n",
       "      <td>0</td>\n",
       "      <td>0</td>\n",
       "      <td>0</td>\n",
       "      <td>16363.30</td>\n",
       "      <td>415</td>\n",
       "      <td>45.23</td>\n",
       "      <td>high</td>\n",
       "      <td>warm</td>\n",
       "    </tr>\n",
       "    <tr>\n",
       "      <th>3174</th>\n",
       "      <td>84616</td>\n",
       "      <td>SILVER ROCCOCO CHANDELIER</td>\n",
       "      <td>0</td>\n",
       "      <td>0</td>\n",
       "      <td>0</td>\n",
       "      <td>0</td>\n",
       "      <td>0</td>\n",
       "      <td>0</td>\n",
       "      <td>1</td>\n",
       "      <td>504.32</td>\n",
       "      <td>14</td>\n",
       "      <td>39.40</td>\n",
       "      <td>high</td>\n",
       "      <td>cold</td>\n",
       "    </tr>\n",
       "    <tr>\n",
       "      <th>3181</th>\n",
       "      <td>84632</td>\n",
       "      <td>DECORATIVE HANGING SHELVING UNIT</td>\n",
       "      <td>0</td>\n",
       "      <td>0</td>\n",
       "      <td>0</td>\n",
       "      <td>0</td>\n",
       "      <td>0</td>\n",
       "      <td>0</td>\n",
       "      <td>1</td>\n",
       "      <td>359.70</td>\n",
       "      <td>6</td>\n",
       "      <td>59.95</td>\n",
       "      <td>high</td>\n",
       "      <td>cold</td>\n",
       "    </tr>\n",
       "    <tr>\n",
       "      <th>3267</th>\n",
       "      <td>84816</td>\n",
       "      <td>DANISH ROSE BEDSIDE CABINET</td>\n",
       "      <td>0</td>\n",
       "      <td>0</td>\n",
       "      <td>0</td>\n",
       "      <td>0</td>\n",
       "      <td>0</td>\n",
       "      <td>1</td>\n",
       "      <td>0</td>\n",
       "      <td>519.35</td>\n",
       "      <td>13</td>\n",
       "      <td>39.95</td>\n",
       "      <td>high</td>\n",
       "      <td>cold</td>\n",
       "    </tr>\n",
       "    <tr>\n",
       "      <th>3361</th>\n",
       "      <td>84963A</td>\n",
       "      <td>PINK PAINTED KASHMIRI CHAIR</td>\n",
       "      <td>0</td>\n",
       "      <td>1</td>\n",
       "      <td>0</td>\n",
       "      <td>0</td>\n",
       "      <td>0</td>\n",
       "      <td>0</td>\n",
       "      <td>0</td>\n",
       "      <td>171.80</td>\n",
       "      <td>4</td>\n",
       "      <td>42.95</td>\n",
       "      <td>high</td>\n",
       "      <td>cold</td>\n",
       "    </tr>\n",
       "    <tr>\n",
       "      <th>3362</th>\n",
       "      <td>84963B</td>\n",
       "      <td>BLUE PAINTED KASHMIRI CHAIR</td>\n",
       "      <td>0</td>\n",
       "      <td>1</td>\n",
       "      <td>0</td>\n",
       "      <td>0</td>\n",
       "      <td>0</td>\n",
       "      <td>0</td>\n",
       "      <td>0</td>\n",
       "      <td>149.85</td>\n",
       "      <td>3</td>\n",
       "      <td>49.95</td>\n",
       "      <td>high</td>\n",
       "      <td>cold</td>\n",
       "    </tr>\n",
       "    <tr>\n",
       "      <th>3368</th>\n",
       "      <td>84968e</td>\n",
       "      <td>SET OF 16 VINTAGE BLACK CUTLERY</td>\n",
       "      <td>1</td>\n",
       "      <td>1</td>\n",
       "      <td>0</td>\n",
       "      <td>1</td>\n",
       "      <td>0</td>\n",
       "      <td>1</td>\n",
       "      <td>0</td>\n",
       "      <td>200.21</td>\n",
       "      <td>8</td>\n",
       "      <td>25.05</td>\n",
       "      <td>high</td>\n",
       "      <td>cold</td>\n",
       "    </tr>\n",
       "  </tbody>\n",
       "</table>\n",
       "</div>"
      ],
      "text/plain": [
       "     StockCode                          Description  SETS  Colors  Material  \\\n",
       "211      20785              FUSCHIA RETRO BAR STOOL     0       0         0   \n",
       "254      20892  SET/3 TALL GLASS CANDLE HOLDER PINK     1       1         1   \n",
       "478      21277  FRENCH STYLE EMBOSSED HEART CABINET     0       0         0   \n",
       "495      21310                     CAPIZ CHANDELIER     0       0         0   \n",
       "611      21473    SWEETHEART CREAM STEEL TABLE RECT     0       0         0   \n",
       "687      21627             ELEPHANT CARNIVAL POUFFE     0       0         0   \n",
       "688      21628           TRIANGULAR POUFFE VINTAGE      0       0         0   \n",
       "734      21686           MEDINA STAMPED METAL STOOL     0       0         1   \n",
       "786      21761      WOOD AND GLASS MEDICINE CABINET     0       0         1   \n",
       "787      21763             VINTAGE WOODEN BAR STOOL     0       0         1   \n",
       "788      21769          VINTAGE POST OFFICE CABINET     0       0         0   \n",
       "1399     22503            CABIN BAG VINTAGE PAISLEY     0       0         0   \n",
       "1400     22504          CABIN BAG VINTAGE RETROSPOT     0       0         0   \n",
       "1549     22655          VINTAGE RED KITCHEN CABINET     0       1         0   \n",
       "1550     22656         VINTAGE BLUE KITCHEN CABINET     0       1         0   \n",
       "1651     22761           CHEST 7 DRAWER MA CAMPAGNE     0       0         0   \n",
       "1654     22764   RUSTIC WOODEN CABINET, GLASS DOORS     0       0         1   \n",
       "1659     22769         CHALKBOARD KITCHEN ORGANISER     0       0         0   \n",
       "1695     22803             IVORY EMBROIDERED QUILT      0       1         0   \n",
       "1718     22823        CHEST NATURAL WOOD 20 DRAWERS     0       0         1   \n",
       "1719     22824       3 TIER SWEETHEART GARDEN SHELF     0       0         0   \n",
       "1721     22826        LOVE SEAT ANTIQUE WHITE METAL     0       1         1   \n",
       "1722     22827   RUSTIC  SEVENTEEN DRAWER SIDEBOARD     0       0         0   \n",
       "1723     22828         REGENCY MIRROR WITH SHUTTERS     0       0         0   \n",
       "1728     22833          HALL CABINET WITH 3 DRAWERS     0       0         0   \n",
       "1823     22929               SCHOOL DESK AND CHAIR      0       0         0   \n",
       "1980     23064               CINDERELLA CHANDELIER      0       0         0   \n",
       "2442     23462                    ROCOCO WALL MIROR     0       0         0   \n",
       "2443     23462             ROCOCO WALL MIRROR WHITE     0       1         0   \n",
       "2469     23485        BOTANICAL GARDENS WALL CLOCK      0       0         0   \n",
       "3052    84078A     SET/4 WHITE RETRO STORAGE CUBES      1       1         0   \n",
       "3174     84616            SILVER ROCCOCO CHANDELIER     0       0         0   \n",
       "3181     84632     DECORATIVE HANGING SHELVING UNIT     0       0         0   \n",
       "3267     84816          DANISH ROSE BEDSIDE CABINET     0       0         0   \n",
       "3361    84963A          PINK PAINTED KASHMIRI CHAIR     0       1         0   \n",
       "3362    84963B          BLUE PAINTED KASHMIRI CHAIR     0       1         0   \n",
       "3368    84968e      SET OF 16 VINTAGE BLACK CUTLERY     1       1         0   \n",
       "\n",
       "      Design  Jewelry  Household  MISC  TotalSales  Quantity  UnitPrice  \\\n",
       "211        0        0          0     1      523.30        14      39.15   \n",
       "254        0        0          1     0       89.22         4      21.24   \n",
       "478        1        0          1     0      571.43        26      22.26   \n",
       "495        0        0          0     1       29.95         1      29.95   \n",
       "611        1        0          1     0      618.66        27      23.76   \n",
       "687        0        0          0     1     1299.83        63      21.96   \n",
       "688        1        0          0     0     1176.60        64      21.55   \n",
       "734        0        0          0     0     1351.64        37      37.97   \n",
       "786        0        0          1     0      299.50        10      29.95   \n",
       "787        1        0          0     0      169.75         7      21.97   \n",
       "788        1        0          1     0      607.65        11      66.36   \n",
       "1399       1        0          0     0     2010.12        99      22.51   \n",
       "1400       1        0          1     0     4674.62       247      22.48   \n",
       "1549       1        0          1     0     8125.00        60     143.42   \n",
       "1550       1        0          1     0     3685.00        26     146.75   \n",
       "1651       0        0          0     1      895.38        36      25.53   \n",
       "1654       0        0          1     0      174.77         8      24.96   \n",
       "1659       0        0          1     0      366.73        11      37.61   \n",
       "1695       0        0          1     0     2038.09        54      38.97   \n",
       "1718       0        0          0     0     2745.00        46     109.64   \n",
       "1719       1        0          1     0     1938.25        55      35.67   \n",
       "1721       1        0          0     0     6210.00        58     114.02   \n",
       "1722       0        0          0     1     5415.00        39     152.22   \n",
       "1723       0        0          0     1     1530.00        10     156.43   \n",
       "1728       0        0          1     0     2603.53        77      47.09   \n",
       "1823       0        0          0     1     1199.75        19      63.92   \n",
       "1980       0        0          0     1     3717.56       221      45.49   \n",
       "2442       0        0          0     1     1607.04        80      20.70   \n",
       "2443       0        0          0     0     1607.04        80      20.70   \n",
       "2469       0        0          1     0     5843.92       262      24.79   \n",
       "3052       0        0          0     0    16363.30       415      45.23   \n",
       "3174       0        0          0     1      504.32        14      39.40   \n",
       "3181       0        0          0     1      359.70         6      59.95   \n",
       "3267       0        0          1     0      519.35        13      39.95   \n",
       "3361       0        0          0     0      171.80         4      42.95   \n",
       "3362       0        0          0     0      149.85         3      49.95   \n",
       "3368       1        0          1     0      200.21         8      25.05   \n",
       "\n",
       "     Price_Category Sales_Frequency  \n",
       "211            high            cold  \n",
       "254            high            cold  \n",
       "478            high            cold  \n",
       "495            high            cold  \n",
       "611            high            cold  \n",
       "687            high            cold  \n",
       "688            high            cold  \n",
       "734            high            cold  \n",
       "786            high            cold  \n",
       "787            high            cold  \n",
       "788            high            cold  \n",
       "1399           high            cold  \n",
       "1400           high            warm  \n",
       "1549           high            cold  \n",
       "1550           high            cold  \n",
       "1651           high            cold  \n",
       "1654           high            cold  \n",
       "1659           high            cold  \n",
       "1695           high            cold  \n",
       "1718           high            cold  \n",
       "1719           high            cold  \n",
       "1721           high            cold  \n",
       "1722           high            cold  \n",
       "1723           high            cold  \n",
       "1728           high            cold  \n",
       "1823           high            cold  \n",
       "1980           high            warm  \n",
       "2442           high            cold  \n",
       "2443           high            cold  \n",
       "2469           high            warm  \n",
       "3052           high            warm  \n",
       "3174           high            cold  \n",
       "3181           high            cold  \n",
       "3267           high            cold  \n",
       "3361           high            cold  \n",
       "3362           high            cold  \n",
       "3368           high            cold  "
      ]
     },
     "execution_count": 12,
     "metadata": {},
     "output_type": "execute_result"
    }
   ],
   "source": [
    "pricey_items"
   ]
  },
  {
   "cell_type": "code",
   "execution_count": 13,
   "id": "bee859ec",
   "metadata": {},
   "outputs": [],
   "source": [
    "# pricey_items.groupby(['Sales_Frequency', 'Price_Category']).sum().drop(columns='Sum')"
   ]
  },
  {
   "cell_type": "markdown",
   "id": "118dc6d2",
   "metadata": {},
   "source": [
    "## Medium Priced items"
   ]
  },
  {
   "cell_type": "code",
   "execution_count": 14,
   "id": "73c19fb8",
   "metadata": {
    "scrolled": true
   },
   "outputs": [],
   "source": [
    "# Display all items with a unit price less than $20 and greater than $5\n",
    "medium_priced = clean_sales.loc[(clean_sales['UnitPrice'] > 5)  & (clean_sales['UnitPrice'] < 20)]"
   ]
  },
  {
   "cell_type": "code",
   "execution_count": 15,
   "id": "fb1eed0a",
   "metadata": {
    "scrolled": true
   },
   "outputs": [
    {
     "data": {
      "text/plain": [
       "9"
      ]
     },
     "execution_count": 15,
     "metadata": {},
     "output_type": "execute_result"
    }
   ],
   "source": [
    "len(medium_priced.loc[medium_priced['Sales_Frequency'] == 'hot'])"
   ]
  },
  {
   "cell_type": "code",
   "execution_count": 16,
   "id": "63ed7864",
   "metadata": {},
   "outputs": [],
   "source": [
    "# medium_priced.groupby(['Sales_Frequency', 'Price_Category']).sum().drop(columns='Sum')"
   ]
  },
  {
   "cell_type": "markdown",
   "id": "3e79392c",
   "metadata": {},
   "source": [
    "# Cheap items"
   ]
  },
  {
   "cell_type": "code",
   "execution_count": 17,
   "id": "0ec88090",
   "metadata": {},
   "outputs": [
    {
     "data": {
      "text/html": [
       "<div>\n",
       "<style scoped>\n",
       "    .dataframe tbody tr th:only-of-type {\n",
       "        vertical-align: middle;\n",
       "    }\n",
       "\n",
       "    .dataframe tbody tr th {\n",
       "        vertical-align: top;\n",
       "    }\n",
       "\n",
       "    .dataframe thead th {\n",
       "        text-align: right;\n",
       "    }\n",
       "</style>\n",
       "<table border=\"1\" class=\"dataframe\">\n",
       "  <thead>\n",
       "    <tr style=\"text-align: right;\">\n",
       "      <th></th>\n",
       "      <th>StockCode</th>\n",
       "      <th>Description</th>\n",
       "      <th>SETS</th>\n",
       "      <th>Colors</th>\n",
       "      <th>Material</th>\n",
       "      <th>Design</th>\n",
       "      <th>Jewelry</th>\n",
       "      <th>Household</th>\n",
       "      <th>MISC</th>\n",
       "      <th>TotalSales</th>\n",
       "      <th>Quantity</th>\n",
       "      <th>UnitPrice</th>\n",
       "      <th>Price_Category</th>\n",
       "      <th>Sales_Frequency</th>\n",
       "    </tr>\n",
       "  </thead>\n",
       "  <tbody>\n",
       "    <tr>\n",
       "      <th>0</th>\n",
       "      <td>10002</td>\n",
       "      <td>INFLATABLE POLITICAL GLOBE</td>\n",
       "      <td>0</td>\n",
       "      <td>0</td>\n",
       "      <td>0</td>\n",
       "      <td>0</td>\n",
       "      <td>0</td>\n",
       "      <td>1</td>\n",
       "      <td>0</td>\n",
       "      <td>759.890</td>\n",
       "      <td>1040</td>\n",
       "      <td>1.07</td>\n",
       "      <td>cheap</td>\n",
       "      <td>reg_seller</td>\n",
       "    </tr>\n",
       "    <tr>\n",
       "      <th>1</th>\n",
       "      <td>10080</td>\n",
       "      <td>GROOVY CACTUS INFLATABLE</td>\n",
       "      <td>0</td>\n",
       "      <td>0</td>\n",
       "      <td>0</td>\n",
       "      <td>0</td>\n",
       "      <td>0</td>\n",
       "      <td>1</td>\n",
       "      <td>0</td>\n",
       "      <td>119.090</td>\n",
       "      <td>495</td>\n",
       "      <td>0.38</td>\n",
       "      <td>cheap</td>\n",
       "      <td>warm</td>\n",
       "    </tr>\n",
       "    <tr>\n",
       "      <th>2</th>\n",
       "      <td>10120</td>\n",
       "      <td>DOGGY RUBBER</td>\n",
       "      <td>0</td>\n",
       "      <td>0</td>\n",
       "      <td>0</td>\n",
       "      <td>1</td>\n",
       "      <td>0</td>\n",
       "      <td>0</td>\n",
       "      <td>0</td>\n",
       "      <td>40.530</td>\n",
       "      <td>193</td>\n",
       "      <td>0.21</td>\n",
       "      <td>cheap</td>\n",
       "      <td>warm</td>\n",
       "    </tr>\n",
       "    <tr>\n",
       "      <th>3</th>\n",
       "      <td>10123C</td>\n",
       "      <td>HEARTS WRAPPING TAPE</td>\n",
       "      <td>0</td>\n",
       "      <td>0</td>\n",
       "      <td>0</td>\n",
       "      <td>1</td>\n",
       "      <td>0</td>\n",
       "      <td>0</td>\n",
       "      <td>0</td>\n",
       "      <td>3.250</td>\n",
       "      <td>5</td>\n",
       "      <td>0.65</td>\n",
       "      <td>cheap</td>\n",
       "      <td>cold</td>\n",
       "    </tr>\n",
       "    <tr>\n",
       "      <th>4</th>\n",
       "      <td>10124A</td>\n",
       "      <td>SPOTS ON RED BOOKCOVER TAPE</td>\n",
       "      <td>0</td>\n",
       "      <td>1</td>\n",
       "      <td>0</td>\n",
       "      <td>0</td>\n",
       "      <td>0</td>\n",
       "      <td>1</td>\n",
       "      <td>0</td>\n",
       "      <td>6.720</td>\n",
       "      <td>16</td>\n",
       "      <td>0.42</td>\n",
       "      <td>cheap</td>\n",
       "      <td>cold</td>\n",
       "    </tr>\n",
       "    <tr>\n",
       "      <th>...</th>\n",
       "      <td>...</td>\n",
       "      <td>...</td>\n",
       "      <td>...</td>\n",
       "      <td>...</td>\n",
       "      <td>...</td>\n",
       "      <td>...</td>\n",
       "      <td>...</td>\n",
       "      <td>...</td>\n",
       "      <td>...</td>\n",
       "      <td>...</td>\n",
       "      <td>...</td>\n",
       "      <td>...</td>\n",
       "      <td>...</td>\n",
       "      <td>...</td>\n",
       "    </tr>\n",
       "    <tr>\n",
       "      <th>3983</th>\n",
       "      <td>90214Z</td>\n",
       "      <td>LETTER \"Z\" BLING KEY RING</td>\n",
       "      <td>0</td>\n",
       "      <td>0</td>\n",
       "      <td>0</td>\n",
       "      <td>0</td>\n",
       "      <td>1</td>\n",
       "      <td>0</td>\n",
       "      <td>0</td>\n",
       "      <td>11.840</td>\n",
       "      <td>22</td>\n",
       "      <td>0.78</td>\n",
       "      <td>cheap</td>\n",
       "      <td>cold</td>\n",
       "    </tr>\n",
       "    <tr>\n",
       "      <th>3984</th>\n",
       "      <td>DCGS0003</td>\n",
       "      <td>BOXED GLASS ASHTRAY</td>\n",
       "      <td>1</td>\n",
       "      <td>0</td>\n",
       "      <td>1</td>\n",
       "      <td>0</td>\n",
       "      <td>0</td>\n",
       "      <td>0</td>\n",
       "      <td>0</td>\n",
       "      <td>9.940</td>\n",
       "      <td>4</td>\n",
       "      <td>2.48</td>\n",
       "      <td>cheap</td>\n",
       "      <td>cold</td>\n",
       "    </tr>\n",
       "    <tr>\n",
       "      <th>3989</th>\n",
       "      <td>DCGSSBOY</td>\n",
       "      <td>BOYS PARTY BAG</td>\n",
       "      <td>0</td>\n",
       "      <td>0</td>\n",
       "      <td>0</td>\n",
       "      <td>1</td>\n",
       "      <td>0</td>\n",
       "      <td>0</td>\n",
       "      <td>0</td>\n",
       "      <td>150.550</td>\n",
       "      <td>47</td>\n",
       "      <td>3.10</td>\n",
       "      <td>cheap</td>\n",
       "      <td>cold</td>\n",
       "    </tr>\n",
       "    <tr>\n",
       "      <th>3990</th>\n",
       "      <td>DCGSSGIRL</td>\n",
       "      <td>GIRLS PARTY BAG</td>\n",
       "      <td>0</td>\n",
       "      <td>0</td>\n",
       "      <td>0</td>\n",
       "      <td>1</td>\n",
       "      <td>0</td>\n",
       "      <td>0</td>\n",
       "      <td>0</td>\n",
       "      <td>144.430</td>\n",
       "      <td>47</td>\n",
       "      <td>3.13</td>\n",
       "      <td>cheap</td>\n",
       "      <td>cold</td>\n",
       "    </tr>\n",
       "    <tr>\n",
       "      <th>3991</th>\n",
       "      <td>PADS</td>\n",
       "      <td>PADS TO MATCH ALL CUSHIONS</td>\n",
       "      <td>0</td>\n",
       "      <td>0</td>\n",
       "      <td>0</td>\n",
       "      <td>0</td>\n",
       "      <td>0</td>\n",
       "      <td>1</td>\n",
       "      <td>0</td>\n",
       "      <td>0.003</td>\n",
       "      <td>4</td>\n",
       "      <td>0.00</td>\n",
       "      <td>cheap</td>\n",
       "      <td>cold</td>\n",
       "    </tr>\n",
       "  </tbody>\n",
       "</table>\n",
       "<p>3188 rows × 14 columns</p>\n",
       "</div>"
      ],
      "text/plain": [
       "      StockCode                  Description  SETS  Colors  Material  Design  \\\n",
       "0         10002  INFLATABLE POLITICAL GLOBE      0       0         0       0   \n",
       "1         10080     GROOVY CACTUS INFLATABLE     0       0         0       0   \n",
       "2         10120                 DOGGY RUBBER     0       0         0       1   \n",
       "3        10123C        HEARTS WRAPPING TAPE      0       0         0       1   \n",
       "4        10124A  SPOTS ON RED BOOKCOVER TAPE     0       1         0       0   \n",
       "...         ...                          ...   ...     ...       ...     ...   \n",
       "3983     90214Z    LETTER \"Z\" BLING KEY RING     0       0         0       0   \n",
       "3984   DCGS0003          BOXED GLASS ASHTRAY     1       0         1       0   \n",
       "3989   DCGSSBOY               BOYS PARTY BAG     0       0         0       1   \n",
       "3990  DCGSSGIRL              GIRLS PARTY BAG     0       0         0       1   \n",
       "3991       PADS   PADS TO MATCH ALL CUSHIONS     0       0         0       0   \n",
       "\n",
       "      Jewelry  Household  MISC  TotalSales  Quantity  UnitPrice  \\\n",
       "0           0          1     0     759.890      1040       1.07   \n",
       "1           0          1     0     119.090       495       0.38   \n",
       "2           0          0     0      40.530       193       0.21   \n",
       "3           0          0     0       3.250         5       0.65   \n",
       "4           0          1     0       6.720        16       0.42   \n",
       "...       ...        ...   ...         ...       ...        ...   \n",
       "3983        1          0     0      11.840        22       0.78   \n",
       "3984        0          0     0       9.940         4       2.48   \n",
       "3989        0          0     0     150.550        47       3.10   \n",
       "3990        0          0     0     144.430        47       3.13   \n",
       "3991        0          1     0       0.003         4       0.00   \n",
       "\n",
       "     Price_Category Sales_Frequency  \n",
       "0             cheap      reg_seller  \n",
       "1             cheap            warm  \n",
       "2             cheap            warm  \n",
       "3             cheap            cold  \n",
       "4             cheap            cold  \n",
       "...             ...             ...  \n",
       "3983          cheap            cold  \n",
       "3984          cheap            cold  \n",
       "3989          cheap            cold  \n",
       "3990          cheap            cold  \n",
       "3991          cheap            cold  \n",
       "\n",
       "[3188 rows x 14 columns]"
      ]
     },
     "execution_count": 17,
     "metadata": {},
     "output_type": "execute_result"
    }
   ],
   "source": [
    "# Display all items with a unit price less than $5\n",
    "cheap_priced = clean_sales.loc[clean_sales['UnitPrice'] < 5]\n",
    "cheap_priced"
   ]
  },
  {
   "cell_type": "code",
   "execution_count": 18,
   "id": "f27491ea",
   "metadata": {},
   "outputs": [
    {
     "data": {
      "text/plain": [
       "98"
      ]
     },
     "execution_count": 18,
     "metadata": {},
     "output_type": "execute_result"
    }
   ],
   "source": [
    "# how many cheap items are best sellers?\n",
    "len(cheap_priced.loc[cheap_priced['Sales_Frequency'] == 'best_seller'])"
   ]
  },
  {
   "cell_type": "code",
   "execution_count": 19,
   "id": "8b3649a6",
   "metadata": {},
   "outputs": [
    {
     "data": {
      "text/plain": [
       "168"
      ]
     },
     "execution_count": 19,
     "metadata": {},
     "output_type": "execute_result"
    }
   ],
   "source": [
    "# how many cheap items are hot sellers?\n",
    "len(cheap_priced.loc[cheap_priced['Sales_Frequency'] == 'hot'])"
   ]
  },
  {
   "cell_type": "code",
   "execution_count": 20,
   "id": "a4f1a7d8",
   "metadata": {},
   "outputs": [
    {
     "data": {
      "text/plain": [
       "965"
      ]
     },
     "execution_count": 20,
     "metadata": {},
     "output_type": "execute_result"
    }
   ],
   "source": [
    "# how many cheap items are regular sellers?\n",
    "len(cheap_priced.loc[cheap_priced['Sales_Frequency'] == 'reg_seller'])"
   ]
  },
  {
   "cell_type": "code",
   "execution_count": 21,
   "id": "11fd31e2",
   "metadata": {},
   "outputs": [
    {
     "data": {
      "text/plain": [
       "1173"
      ]
     },
     "execution_count": 21,
     "metadata": {},
     "output_type": "execute_result"
    }
   ],
   "source": [
    "# how many cheap items are warm sellers?\n",
    "len(cheap_priced.loc[cheap_priced['Sales_Frequency'] == 'warm'])"
   ]
  },
  {
   "cell_type": "code",
   "execution_count": 22,
   "id": "8a9c4406",
   "metadata": {},
   "outputs": [
    {
     "data": {
      "text/plain": [
       "784"
      ]
     },
     "execution_count": 22,
     "metadata": {},
     "output_type": "execute_result"
    }
   ],
   "source": [
    "# how many cheap items are cold sellers?\n",
    "len(cheap_priced.loc[cheap_priced['Sales_Frequency'] == 'cold'])"
   ]
  },
  {
   "cell_type": "code",
   "execution_count": 23,
   "id": "920bc5f0",
   "metadata": {},
   "outputs": [],
   "source": [
    "# cheap_priced.groupby(['Sales_Frequency','Price_Category']).sum().drop(columns='Sum')"
   ]
  },
  {
   "cell_type": "code",
   "execution_count": 24,
   "id": "8ba29c48",
   "metadata": {},
   "outputs": [
    {
     "data": {
      "text/html": [
       "<div>\n",
       "<style scoped>\n",
       "    .dataframe tbody tr th:only-of-type {\n",
       "        vertical-align: middle;\n",
       "    }\n",
       "\n",
       "    .dataframe tbody tr th {\n",
       "        vertical-align: top;\n",
       "    }\n",
       "\n",
       "    .dataframe thead th {\n",
       "        text-align: right;\n",
       "    }\n",
       "</style>\n",
       "<table border=\"1\" class=\"dataframe\">\n",
       "  <thead>\n",
       "    <tr style=\"text-align: right;\">\n",
       "      <th></th>\n",
       "      <th>TotalSales</th>\n",
       "      <th>Quantity</th>\n",
       "    </tr>\n",
       "    <tr>\n",
       "      <th>Price_Category</th>\n",
       "      <th></th>\n",
       "      <th></th>\n",
       "    </tr>\n",
       "  </thead>\n",
       "  <tbody>\n",
       "    <tr>\n",
       "      <th>cheap</th>\n",
       "      <td>8214059.413</td>\n",
       "      <td>5738922</td>\n",
       "    </tr>\n",
       "    <tr>\n",
       "      <th>high</th>\n",
       "      <td>81392.860</td>\n",
       "      <td>2215</td>\n",
       "    </tr>\n",
       "    <tr>\n",
       "      <th>medium</th>\n",
       "      <td>3214769.570</td>\n",
       "      <td>479191</td>\n",
       "    </tr>\n",
       "  </tbody>\n",
       "</table>\n",
       "</div>"
      ],
      "text/plain": [
       "                 TotalSales  Quantity\n",
       "Price_Category                       \n",
       "cheap           8214059.413   5738922\n",
       "high              81392.860      2215\n",
       "medium          3214769.570    479191"
      ]
     },
     "execution_count": 24,
     "metadata": {},
     "output_type": "execute_result"
    }
   ],
   "source": [
    "clean_sales.groupby(['Price_Category'])['TotalSales', 'Quantity'].sum()"
   ]
  },
  {
   "cell_type": "code",
   "execution_count": 25,
   "id": "ab6a7314",
   "metadata": {
    "scrolled": true
   },
   "outputs": [],
   "source": [
    "# group by sales frequency\n",
    "# contains common word is unique so totaling the values will get accurate amount of \n",
    "df1 = clean_sales.groupby(['Price_Category'])['TotalSales', 'Quantity'].sum()\n"
   ]
  },
  {
   "cell_type": "code",
   "execution_count": 26,
   "id": "36fb9f83",
   "metadata": {
    "scrolled": true
   },
   "outputs": [
    {
     "data": {
      "image/png": "[encoded data removed]",
      "text/plain": [
       "<Figure size 432x288 with 1 Axes>"
      ]
     },
     "metadata": {},
     "output_type": "display_data"
    }
   ],
   "source": [
    "# Total Sales per Unit Price classification Pie Chart\n",
    "labels = 'cheap', 'high', 'medium'\n",
    "fracs = df1['TotalSales'].to_list()\n",
    "\n",
    "my_colors = ['lightblue','lightsteelblue','silver']\n",
    "explode = (0.1, 0, 0.1)\n",
    "plt.pie(fracs, labels=labels, autopct='%1.1f%%', startangle=15, shadow = True, colors=my_colors, explode=explode)\n",
    "plt.title('TotalSales')\n",
    "plt.axis('equal')\n",
    "plt.savefig('Output_Data/Images/UnitPrice_Sales.png')\n",
    "plt.show()"
   ]
  },
  {
   "cell_type": "code",
   "execution_count": 27,
   "id": "35ded740",
   "metadata": {},
   "outputs": [
    {
     "data": {
      "image/png": "[encoded data removed]",
      "text/plain": [
       "<Figure size 432x288 with 1 Axes>"
      ]
     },
     "metadata": {},
     "output_type": "display_data"
    }
   ],
   "source": [
    "# Quantity distribution per Unit Price classification Pie Chart\n",
    "labels = 'cheap', 'high', 'medium'\n",
    "fracs1 = df1['Quantity'].to_list()\n",
    "\n",
    "my_colors = ['lightblue','lightsteelblue','silver']\n",
    "explode = (0, 0, 0.2)\n",
    "plt.pie(fracs1, labels=labels, autopct='%1.1f%%', startangle=15, shadow = True, colors=my_colors, explode=explode)\n",
    "plt.title('Quantity distribution per Unit Price Category')\n",
    "plt.axis('equal')\n",
    "plt.savefig('Output_Data/Images/qtyDistributionPerUnitPice_Sales.png')\n",
    "plt.show()"
   ]
  },
  {
   "cell_type": "markdown",
   "id": "9946cd06",
   "metadata": {},
   "source": [
    "# Show Sales by Product Category Compared to Total Sales"
   ]
  },
  {
   "cell_type": "code",
   "execution_count": 28,
   "id": "c5b22a02",
   "metadata": {},
   "outputs": [],
   "source": [
    "# sets df "
   ]
  },
  {
   "cell_type": "markdown",
   "id": "ade8cabb",
   "metadata": {},
   "source": [
    "### Sets sales vs All other categories"
   ]
  },
  {
   "cell_type": "code",
   "execution_count": 29,
   "id": "cfc01231",
   "metadata": {
    "scrolled": true
   },
   "outputs": [],
   "source": [
    "is_a_set = clean_sales.loc[clean_sales['SETS'] == 1]\n",
    "sets_df = is_a_set[['StockCode', 'Description', 'SETS', \n",
    "                    'MISC', 'TotalSales', 'Quantity', 'UnitPrice', 'Price_Category', 'Sales_Frequency']].copy()\n",
    "# show sets df\n",
    "# sets_df"
   ]
  },
  {
   "cell_type": "code",
   "execution_count": 30,
   "id": "1bf3208f",
   "metadata": {},
   "outputs": [
    {
     "data": {
      "text/plain": [
       "0.1861993590769404"
      ]
     },
     "execution_count": 30,
     "metadata": {},
     "output_type": "execute_result"
    }
   ],
   "source": [
    "item_sales_total = sum(df1['TotalSales'].to_list())\n",
    "sets_sales_total = sum(sets_df['TotalSales'].to_list())\n",
    "\n",
    "# Get the percentage of sets sales compared to total sales\n",
    "sets_sales_total/item_sales_total"
   ]
  },
  {
   "cell_type": "code",
   "execution_count": 31,
   "id": "e909eba2",
   "metadata": {},
   "outputs": [
    {
     "data": {
      "text/plain": [
       "0.8138006409230596"
      ]
     },
     "execution_count": 31,
     "metadata": {},
     "output_type": "execute_result"
    }
   ],
   "source": [
    "# All other categories %\n",
    "1 - 0.1861993590769404"
   ]
  },
  {
   "cell_type": "code",
   "execution_count": 32,
   "id": "6a406ddf",
   "metadata": {},
   "outputs": [
    {
     "data": {
      "image/png": "[encoded data removed]",
      "text/plain": [
       "<Figure size 432x288 with 1 Axes>"
      ]
     },
     "metadata": {},
     "output_type": "display_data"
    }
   ],
   "source": [
    "# Sets vs All other categories\n",
    "labels = 'SETS sales', 'All other categories'\n",
    "total_sales_fracs = 18.6, 81.3 \n",
    "sets_sales_fracs1 = sets_sales_total\n",
    "\n",
    "my_colors = ['lightblue','lightsteelblue']\n",
    "explode = (0, 0.2)\n",
    "plt.pie(total_sales_fracs, labels=labels, autopct='%1.1f%%', startangle=15, shadow = True, colors=my_colors, explode=explode)\n",
    "plt.title('SETS sales compared to total sales')\n",
    "plt.axis('equal')\n",
    "plt.savefig('Output_Data/Images/SETS_Sales.png')\n",
    "plt.show()"
   ]
  },
  {
   "cell_type": "markdown",
   "id": "21c7102c",
   "metadata": {},
   "source": [
    "### Colors sales vs All other categories"
   ]
  },
  {
   "cell_type": "code",
   "execution_count": 33,
   "id": "96d16c55",
   "metadata": {},
   "outputs": [],
   "source": [
    "is_a_color = clean_sales.loc[clean_sales['Colors'] == 1]\n",
    "colors_df = is_a_color[['StockCode', 'Description', 'Colors',\n",
    "                        'MISC', 'TotalSales', 'Quantity', 'UnitPrice', 'Price_Category', 'Sales_Frequency']].copy()\n",
    "# show colors df\n",
    "#colors_df"
   ]
  },
  {
   "cell_type": "code",
   "execution_count": 34,
   "id": "37d82bf6",
   "metadata": {},
   "outputs": [
    {
     "data": {
      "text/plain": [
       "0.23641559277633814"
      ]
     },
     "execution_count": 34,
     "metadata": {},
     "output_type": "execute_result"
    }
   ],
   "source": [
    "colors_sales_total = sum(colors_df['TotalSales'].to_list())\n",
    "\n",
    "# Get the percentage of sets sales compared to total sales\n",
    "colors_sales_total/item_sales_total"
   ]
  },
  {
   "cell_type": "code",
   "execution_count": 35,
   "id": "cd1d18b2",
   "metadata": {},
   "outputs": [
    {
     "data": {
      "text/plain": [
       "0.7635844072236618"
      ]
     },
     "execution_count": 35,
     "metadata": {},
     "output_type": "execute_result"
    }
   ],
   "source": [
    "# All other categories %\n",
    "1 - 0.23641559277633814"
   ]
  },
  {
   "cell_type": "code",
   "execution_count": 36,
   "id": "b2814dca",
   "metadata": {
    "scrolled": true
   },
   "outputs": [
    {
     "data": {
      "image/png": "[encoded data removed]",
      "text/plain": [
       "<Figure size 432x288 with 1 Axes>"
      ]
     },
     "metadata": {},
     "output_type": "display_data"
    }
   ],
   "source": [
    "# Colors vs All other categories\n",
    "labels = 'Colors sales', 'All other categories'\n",
    "total_colors_fracs = 23.6, 76.3 \n",
    "\n",
    "my_colors = ['lightblue','lightsteelblue']\n",
    "explode = (0, 0.2)\n",
    "plt.pie(total_colors_fracs, labels=labels, autopct='%1.1f%%', startangle=15, shadow = True, colors=my_colors, explode=explode)\n",
    "plt.title('Colors sales compared to total sales')\n",
    "plt.axis('equal')\n",
    "plt.savefig('Output_Data/Images/Colors_Sales.png')\n",
    "plt.show()"
   ]
  },
  {
   "cell_type": "markdown",
   "id": "53fe2676",
   "metadata": {},
   "source": [
    "### Material sales vs All other categories"
   ]
  },
  {
   "cell_type": "code",
   "execution_count": 37,
   "id": "a4e8ce2e",
   "metadata": {},
   "outputs": [],
   "source": [
    "is_a_material = clean_sales.loc[clean_sales['Material'] == 1]\n",
    "material_df = is_a_material[['StockCode', 'Description', 'Material', \n",
    "                             'MISC', 'TotalSales', 'Quantity', 'UnitPrice', 'Price_Category', 'Sales_Frequency']].copy()\n",
    "# show material df\n",
    "#material_df"
   ]
  },
  {
   "cell_type": "code",
   "execution_count": 38,
   "id": "a349595c",
   "metadata": {
    "scrolled": true
   },
   "outputs": [
    {
     "data": {
      "text/plain": [
       "0.16604052172654546"
      ]
     },
     "execution_count": 38,
     "metadata": {},
     "output_type": "execute_result"
    }
   ],
   "source": [
    "material_sales_total = sum(material_df['TotalSales'].to_list())\n",
    "\n",
    "# Get the percentage of sets sales compared to total sales\n",
    "material_sales_total/item_sales_total"
   ]
  },
  {
   "cell_type": "code",
   "execution_count": 39,
   "id": "e80ecd81",
   "metadata": {},
   "outputs": [
    {
     "data": {
      "text/plain": [
       "0.8339594782734545"
      ]
     },
     "execution_count": 39,
     "metadata": {},
     "output_type": "execute_result"
    }
   ],
   "source": [
    "# All other categories %\n",
    "1 - 0.16604052172654546"
   ]
  },
  {
   "cell_type": "code",
   "execution_count": 40,
   "id": "ca42f641",
   "metadata": {},
   "outputs": [
    {
     "data": {
      "image/png": "[encoded data removed]",
      "text/plain": [
       "<Figure size 432x288 with 1 Axes>"
      ]
     },
     "metadata": {},
     "output_type": "display_data"
    }
   ],
   "source": [
    "# Material vs All other categories\n",
    "labels = 'Material sales', 'All other categories'\n",
    "total_material_fracs = 16.6, 83.3 \n",
    "\n",
    "my_colors = ['lightblue','lightsteelblue']\n",
    "explode = (0, 0.2)\n",
    "plt.pie(total_material_fracs, labels=labels, autopct='%1.1f%%', startangle=15, shadow = True, colors=my_colors, explode=explode)\n",
    "plt.title('Material sales compared to total sales')\n",
    "plt.axis('equal')\n",
    "plt.savefig('Output_Data/Images/Material_Sales.png')\n",
    "plt.show()"
   ]
  },
  {
   "cell_type": "markdown",
   "id": "b68dd013",
   "metadata": {},
   "source": [
    "### Design sales vs All other categories"
   ]
  },
  {
   "cell_type": "code",
   "execution_count": 41,
   "id": "eaff526a",
   "metadata": {},
   "outputs": [],
   "source": [
    "is_a_design = clean_sales.loc[clean_sales['Design'] == 1]\n",
    "design_df = is_a_design[['StockCode', 'Description', 'Design',\n",
    "                         'MISC', 'TotalSales', 'Quantity', 'UnitPrice', 'Price_Category', 'Sales_Frequency']].copy()\n",
    "# show design df\n",
    "#design_df"
   ]
  },
  {
   "cell_type": "code",
   "execution_count": 42,
   "id": "649abe88",
   "metadata": {
    "scrolled": true
   },
   "outputs": [
    {
     "data": {
      "text/plain": [
       "0.45812201640638633"
      ]
     },
     "execution_count": 42,
     "metadata": {},
     "output_type": "execute_result"
    }
   ],
   "source": [
    "design_sales_total = sum(design_df['TotalSales'].to_list())\n",
    "\n",
    "# Get the percentage of sets sales compared to total sales\n",
    "design_sales_total/item_sales_total"
   ]
  },
  {
   "cell_type": "code",
   "execution_count": 43,
   "id": "baccae2c",
   "metadata": {},
   "outputs": [
    {
     "data": {
      "text/plain": [
       "0.5418779835936136"
      ]
     },
     "execution_count": 43,
     "metadata": {},
     "output_type": "execute_result"
    }
   ],
   "source": [
    "# All other categories %\n",
    "1 - 0.45812201640638633"
   ]
  },
  {
   "cell_type": "code",
   "execution_count": 44,
   "id": "17b1c76e",
   "metadata": {},
   "outputs": [
    {
     "data": {
      "image/png": "[encoded data removed]",
      "text/plain": [
       "<Figure size 432x288 with 1 Axes>"
      ]
     },
     "metadata": {},
     "output_type": "display_data"
    }
   ],
   "source": [
    "# Design vs All other categories\n",
    "labels = 'Design sales', 'All other categories'\n",
    "total_design_fracs = 46, 54\n",
    "\n",
    "my_colors = ['lightblue','lightsteelblue']\n",
    "explode = (0, 0.2)\n",
    "plt.pie(total_design_fracs, labels=labels, autopct='%1.1f%%', startangle=15, shadow = True, colors=my_colors, explode=explode)\n",
    "plt.title('Design sales compared to total sales')\n",
    "plt.axis('equal')\n",
    "plt.savefig('Output_Data/Images/Design_Sales.png')\n",
    "plt.show()"
   ]
  },
  {
   "cell_type": "markdown",
   "id": "8aa73cc4",
   "metadata": {},
   "source": [
    "### Jewelry sales vs All other categories"
   ]
  },
  {
   "cell_type": "code",
   "execution_count": 45,
   "id": "2e8e15bf",
   "metadata": {},
   "outputs": [],
   "source": [
    "is_jewelry = clean_sales.loc[clean_sales['Jewelry'] == 1]\n",
    "jewelry_df = is_jewelry[['StockCode', 'Description', 'Jewelry',\n",
    "                         'MISC', 'TotalSales', 'Quantity', 'UnitPrice', 'Price_Category', 'Sales_Frequency']].copy()\n",
    "# show jewelry df\n",
    "#jewelry_df"
   ]
  },
  {
   "cell_type": "code",
   "execution_count": 46,
   "id": "6efba3ae",
   "metadata": {
    "scrolled": true
   },
   "outputs": [
    {
     "data": {
      "text/plain": [
       "0.012364715636350058"
      ]
     },
     "execution_count": 46,
     "metadata": {},
     "output_type": "execute_result"
    }
   ],
   "source": [
    "jewelry_sales_total = sum(jewelry_df['TotalSales'].to_list())\n",
    "\n",
    "# Get the percentage of sets sales compared to total sales\n",
    "jewelry_sales_total/item_sales_total"
   ]
  },
  {
   "cell_type": "code",
   "execution_count": 47,
   "id": "7305355f",
   "metadata": {},
   "outputs": [
    {
     "data": {
      "text/plain": [
       "0.9876352843636499"
      ]
     },
     "execution_count": 47,
     "metadata": {},
     "output_type": "execute_result"
    }
   ],
   "source": [
    "# All other categories %\n",
    "1 - 0.012364715636350058"
   ]
  },
  {
   "cell_type": "code",
   "execution_count": 48,
   "id": "6a5ecc2c",
   "metadata": {
    "scrolled": true
   },
   "outputs": [
    {
     "data": {
      "image/png": "[encoded data removed]",
      "text/plain": [
       "<Figure size 432x288 with 1 Axes>"
      ]
     },
     "metadata": {},
     "output_type": "display_data"
    }
   ],
   "source": [
    "# Jewelry vs All other categories\n",
    "labels = 'Jewelry sales', 'All other categories'\n",
    "total_jewelry_fracs = 1.2, 98.8 \n",
    "\n",
    "my_colors = ['lightblue','lightsteelblue']\n",
    "explode = (0, 0.2)\n",
    "plt.pie(total_jewelry_fracs, labels=labels, autopct='%1.1f%%', startangle=15, shadow = True, colors=my_colors, explode=explode)\n",
    "plt.title('Jewelry sales compared to total sales')\n",
    "plt.axis('equal')\n",
    "plt.savefig('Output_Data/Images/Jewelry_Sales.png')\n",
    "plt.show()"
   ]
  },
  {
   "cell_type": "markdown",
   "id": "b6eaf362",
   "metadata": {},
   "source": [
    "### Household sales vs All other categories"
   ]
  },
  {
   "cell_type": "code",
   "execution_count": 49,
   "id": "f58a8ae9",
   "metadata": {},
   "outputs": [],
   "source": [
    "is_a_household = clean_sales.loc[clean_sales['Household'] == 1]\n",
    "household_df = is_a_household[['StockCode', 'Description', 'Household', \n",
    "                               'MISC', 'TotalSales', 'Quantity', 'UnitPrice', 'Price_Category', 'Sales_Frequency']].copy()\n",
    "# show household df\n",
    "#household_df"
   ]
  },
  {
   "cell_type": "code",
   "execution_count": 50,
   "id": "7f10bd5c",
   "metadata": {
    "scrolled": true
   },
   "outputs": [
    {
     "data": {
      "text/plain": [
       "0.3190470447129854"
      ]
     },
     "execution_count": 50,
     "metadata": {},
     "output_type": "execute_result"
    }
   ],
   "source": [
    "household_sales_total = sum(household_df['TotalSales'].to_list())\n",
    "\n",
    "# Get the percentage of sets sales compared to total sales\n",
    "household_sales_total/item_sales_total"
   ]
  },
  {
   "cell_type": "code",
   "execution_count": 51,
   "id": "ed3143f7",
   "metadata": {},
   "outputs": [
    {
     "data": {
      "text/plain": [
       "0.6809529552870146"
      ]
     },
     "execution_count": 51,
     "metadata": {},
     "output_type": "execute_result"
    }
   ],
   "source": [
    "# All other categories %\n",
    "1 - 0.3190470447129854"
   ]
  },
  {
   "cell_type": "code",
   "execution_count": 52,
   "id": "b8efa02b",
   "metadata": {
    "scrolled": true
   },
   "outputs": [
    {
     "data": {
      "image/png": "[encoded data removed]",
      "text/plain": [
       "<Figure size 432x288 with 1 Axes>"
      ]
     },
     "metadata": {},
     "output_type": "display_data"
    }
   ],
   "source": [
    "# Household vs All other categories\n",
    "labels = 'Household sales', 'All other categories'\n",
    "total_household_fracs = 32, 68\n",
    "\n",
    "my_colors = ['lightblue','lightsteelblue']\n",
    "explode = (0, 0.2)\n",
    "plt.pie(total_household_fracs, labels=labels, autopct='%1.1f%%', startangle=15, shadow = True, colors=my_colors, explode=explode)\n",
    "plt.title('Household sales compared to total sales')\n",
    "plt.axis('equal')\n",
    "plt.savefig('Output_Data/Images/Household_Sales.png')\n",
    "plt.show()"
   ]
  },
  {
   "cell_type": "markdown",
   "id": "c8bdc70c",
   "metadata": {},
   "source": [
    "### MISC sales vs All other categories"
   ]
  },
  {
   "cell_type": "code",
   "execution_count": 53,
   "id": "0a4cc3cb",
   "metadata": {},
   "outputs": [],
   "source": [
    "is_misc = clean_sales.loc[clean_sales['MISC'] == 1]\n",
    "misc_df = is_misc[['StockCode', 'Description', 'MISC', \n",
    "                               'TotalSales', 'Quantity', 'UnitPrice', 'Price_Category', 'Sales_Frequency']].copy()\n",
    "# show household df\n",
    "#household_df"
   ]
  },
  {
   "cell_type": "code",
   "execution_count": 54,
   "id": "2850771c",
   "metadata": {
    "scrolled": true
   },
   "outputs": [
    {
     "data": {
      "text/plain": [
       "0.17586219167713404"
      ]
     },
     "execution_count": 54,
     "metadata": {},
     "output_type": "execute_result"
    }
   ],
   "source": [
    "misc_sales_total = sum(misc_df['TotalSales'].to_list())\n",
    "\n",
    "# Get the percentage of sets sales compared to total sales\n",
    "misc_sales_total/item_sales_total"
   ]
  },
  {
   "cell_type": "code",
   "execution_count": 55,
   "id": "6fe2f705",
   "metadata": {},
   "outputs": [
    {
     "data": {
      "text/plain": [
       "0.824137808322866"
      ]
     },
     "execution_count": 55,
     "metadata": {},
     "output_type": "execute_result"
    }
   ],
   "source": [
    "# All other categories %\n",
    "1 - 0.17586219167713404"
   ]
  },
  {
   "cell_type": "code",
   "execution_count": 56,
   "id": "052aad2e",
   "metadata": {},
   "outputs": [
    {
     "data": {
      "image/png": "[encoded data removed]",
      "text/plain": [
       "<Figure size 432x288 with 1 Axes>"
      ]
     },
     "metadata": {},
     "output_type": "display_data"
    }
   ],
   "source": [
    "# MISC vs All other categories\n",
    "labels = 'MISC sales', 'All other categories'\n",
    "total_household_fracs = 18, 82\n",
    "\n",
    "my_colors = ['lightblue','lightsteelblue']\n",
    "explode = (0, 0.2)\n",
    "plt.pie(total_household_fracs, labels=labels, autopct='%1.1f%%', startangle=15, shadow = True, colors=my_colors, explode=explode)\n",
    "plt.title('MISC sales compared to total sales')\n",
    "plt.axis('equal')\n",
    "plt.savefig('Output_Data/Images/Misc_Sales.png')\n",
    "plt.show()"
   ]
  },
  {
   "cell_type": "markdown",
   "id": "a6151e6e",
   "metadata": {},
   "source": [
    "# Sales by Sales_Frequency"
   ]
  },
  {
   "cell_type": "code",
   "execution_count": 57,
   "id": "bdf17f89",
   "metadata": {},
   "outputs": [],
   "source": [
    "cateogry_df = clean_sales.groupby(['Price_Category']).sum()\n",
    "cateogry_df2 = clean_sales.groupby(['Sales_Frequency']).sum()"
   ]
  },
  {
   "cell_type": "code",
   "execution_count": 58,
   "id": "ac829491",
   "metadata": {
    "scrolled": true
   },
   "outputs": [
    {
     "data": {
      "text/html": [
       "<div>\n",
       "<style scoped>\n",
       "    .dataframe tbody tr th:only-of-type {\n",
       "        vertical-align: middle;\n",
       "    }\n",
       "\n",
       "    .dataframe tbody tr th {\n",
       "        vertical-align: top;\n",
       "    }\n",
       "\n",
       "    .dataframe thead th {\n",
       "        text-align: right;\n",
       "    }\n",
       "</style>\n",
       "<table border=\"1\" class=\"dataframe\">\n",
       "  <thead>\n",
       "    <tr style=\"text-align: right;\">\n",
       "      <th></th>\n",
       "      <th>SETS</th>\n",
       "      <th>Colors</th>\n",
       "      <th>Material</th>\n",
       "      <th>Design</th>\n",
       "      <th>Jewelry</th>\n",
       "      <th>Household</th>\n",
       "      <th>MISC</th>\n",
       "      <th>TotalSales</th>\n",
       "      <th>Quantity</th>\n",
       "      <th>UnitPrice</th>\n",
       "    </tr>\n",
       "    <tr>\n",
       "      <th>Price_Category</th>\n",
       "      <th></th>\n",
       "      <th></th>\n",
       "      <th></th>\n",
       "      <th></th>\n",
       "      <th></th>\n",
       "      <th></th>\n",
       "      <th></th>\n",
       "      <th></th>\n",
       "      <th></th>\n",
       "      <th></th>\n",
       "    </tr>\n",
       "  </thead>\n",
       "  <tbody>\n",
       "    <tr>\n",
       "      <th>cheap</th>\n",
       "      <td>558</td>\n",
       "      <td>944</td>\n",
       "      <td>456</td>\n",
       "      <td>1336</td>\n",
       "      <td>221</td>\n",
       "      <td>784</td>\n",
       "      <td>507</td>\n",
       "      <td>8214059.413</td>\n",
       "      <td>5738922</td>\n",
       "      <td>6617.25</td>\n",
       "    </tr>\n",
       "    <tr>\n",
       "      <th>high</th>\n",
       "      <td>3</td>\n",
       "      <td>10</td>\n",
       "      <td>7</td>\n",
       "      <td>12</td>\n",
       "      <td>0</td>\n",
       "      <td>16</td>\n",
       "      <td>11</td>\n",
       "      <td>81392.860</td>\n",
       "      <td>2215</td>\n",
       "      <td>1891.50</td>\n",
       "    </tr>\n",
       "    <tr>\n",
       "      <th>medium</th>\n",
       "      <td>103</td>\n",
       "      <td>229</td>\n",
       "      <td>122</td>\n",
       "      <td>229</td>\n",
       "      <td>133</td>\n",
       "      <td>235</td>\n",
       "      <td>125</td>\n",
       "      <td>3214769.570</td>\n",
       "      <td>479191</td>\n",
       "      <td>6525.80</td>\n",
       "    </tr>\n",
       "  </tbody>\n",
       "</table>\n",
       "</div>"
      ],
      "text/plain": [
       "                SETS  Colors  Material  Design  Jewelry  Household  MISC  \\\n",
       "Price_Category                                                             \n",
       "cheap            558     944       456    1336      221        784   507   \n",
       "high               3      10         7      12        0         16    11   \n",
       "medium           103     229       122     229      133        235   125   \n",
       "\n",
       "                 TotalSales  Quantity  UnitPrice  \n",
       "Price_Category                                    \n",
       "cheap           8214059.413   5738922    6617.25  \n",
       "high              81392.860      2215    1891.50  \n",
       "medium          3214769.570    479191    6525.80  "
      ]
     },
     "execution_count": 58,
     "metadata": {},
     "output_type": "execute_result"
    }
   ],
   "source": [
    "cateogry_df"
   ]
  },
  {
   "cell_type": "code",
   "execution_count": 59,
   "id": "a61ce5ca",
   "metadata": {
    "scrolled": true
   },
   "outputs": [
    {
     "data": {
      "text/plain": [
       "<AxesSubplot:xlabel='Price_Category'>"
      ]
     },
     "execution_count": 59,
     "metadata": {},
     "output_type": "execute_result"
    },
    {
     "data": {
      "image/png": "[encoded data removed]",
      "text/plain": [
       "<Figure size 432x288 with 1 Axes>"
      ]
     },
     "metadata": {
      "needs_background": "light"
     },
     "output_type": "display_data"
    }
   ],
   "source": [
    "cateogry_df.plot.bar(y = 'TotalSales')"
   ]
  },
  {
   "cell_type": "code",
   "execution_count": 60,
   "id": "406bc36a",
   "metadata": {},
   "outputs": [
    {
     "data": {
      "text/html": [
       "<div>\n",
       "<style scoped>\n",
       "    .dataframe tbody tr th:only-of-type {\n",
       "        vertical-align: middle;\n",
       "    }\n",
       "\n",
       "    .dataframe tbody tr th {\n",
       "        vertical-align: top;\n",
       "    }\n",
       "\n",
       "    .dataframe thead th {\n",
       "        text-align: right;\n",
       "    }\n",
       "</style>\n",
       "<table border=\"1\" class=\"dataframe\">\n",
       "  <thead>\n",
       "    <tr style=\"text-align: right;\">\n",
       "      <th></th>\n",
       "      <th>SETS</th>\n",
       "      <th>Colors</th>\n",
       "      <th>Material</th>\n",
       "      <th>Design</th>\n",
       "      <th>Jewelry</th>\n",
       "      <th>Household</th>\n",
       "      <th>MISC</th>\n",
       "      <th>TotalSales</th>\n",
       "      <th>Quantity</th>\n",
       "      <th>UnitPrice</th>\n",
       "    </tr>\n",
       "    <tr>\n",
       "      <th>Sales_Frequency</th>\n",
       "      <th></th>\n",
       "      <th></th>\n",
       "      <th></th>\n",
       "      <th></th>\n",
       "      <th></th>\n",
       "      <th></th>\n",
       "      <th></th>\n",
       "      <th></th>\n",
       "      <th></th>\n",
       "      <th></th>\n",
       "    </tr>\n",
       "  </thead>\n",
       "  <tbody>\n",
       "    <tr>\n",
       "      <th>best_seller</th>\n",
       "      <td>22</td>\n",
       "      <td>21</td>\n",
       "      <td>17</td>\n",
       "      <td>54</td>\n",
       "      <td>2</td>\n",
       "      <td>15</td>\n",
       "      <td>16</td>\n",
       "      <td>2856867.580</td>\n",
       "      <td>1878718</td>\n",
       "      <td>189.42</td>\n",
       "    </tr>\n",
       "    <tr>\n",
       "      <th>cold</th>\n",
       "      <td>132</td>\n",
       "      <td>475</td>\n",
       "      <td>185</td>\n",
       "      <td>369</td>\n",
       "      <td>297</td>\n",
       "      <td>208</td>\n",
       "      <td>123</td>\n",
       "      <td>168761.243</td>\n",
       "      <td>36189</td>\n",
       "      <td>6172.78</td>\n",
       "    </tr>\n",
       "    <tr>\n",
       "      <th>hot</th>\n",
       "      <td>48</td>\n",
       "      <td>36</td>\n",
       "      <td>35</td>\n",
       "      <td>92</td>\n",
       "      <td>2</td>\n",
       "      <td>51</td>\n",
       "      <td>22</td>\n",
       "      <td>1991039.600</td>\n",
       "      <td>1234251</td>\n",
       "      <td>345.03</td>\n",
       "    </tr>\n",
       "    <tr>\n",
       "      <th>reg_seller</th>\n",
       "      <td>215</td>\n",
       "      <td>224</td>\n",
       "      <td>145</td>\n",
       "      <td>504</td>\n",
       "      <td>30</td>\n",
       "      <td>323</td>\n",
       "      <td>189</td>\n",
       "      <td>4535307.410</td>\n",
       "      <td>2397042</td>\n",
       "      <td>2579.90</td>\n",
       "    </tr>\n",
       "    <tr>\n",
       "      <th>warm</th>\n",
       "      <td>247</td>\n",
       "      <td>427</td>\n",
       "      <td>203</td>\n",
       "      <td>558</td>\n",
       "      <td>23</td>\n",
       "      <td>438</td>\n",
       "      <td>293</td>\n",
       "      <td>1958246.010</td>\n",
       "      <td>674128</td>\n",
       "      <td>5747.42</td>\n",
       "    </tr>\n",
       "  </tbody>\n",
       "</table>\n",
       "</div>"
      ],
      "text/plain": [
       "                 SETS  Colors  Material  Design  Jewelry  Household  MISC  \\\n",
       "Sales_Frequency                                                             \n",
       "best_seller        22      21        17      54        2         15    16   \n",
       "cold              132     475       185     369      297        208   123   \n",
       "hot                48      36        35      92        2         51    22   \n",
       "reg_seller        215     224       145     504       30        323   189   \n",
       "warm              247     427       203     558       23        438   293   \n",
       "\n",
       "                  TotalSales  Quantity  UnitPrice  \n",
       "Sales_Frequency                                    \n",
       "best_seller      2856867.580   1878718     189.42  \n",
       "cold              168761.243     36189    6172.78  \n",
       "hot              1991039.600   1234251     345.03  \n",
       "reg_seller       4535307.410   2397042    2579.90  \n",
       "warm             1958246.010    674128    5747.42  "
      ]
     },
     "execution_count": 60,
     "metadata": {},
     "output_type": "execute_result"
    }
   ],
   "source": [
    "cateogry_df2"
   ]
  },
  {
   "cell_type": "code",
   "execution_count": 61,
   "id": "30766ff9",
   "metadata": {},
   "outputs": [
    {
     "data": {
      "text/plain": [
       "<AxesSubplot:xlabel='Sales_Frequency'>"
      ]
     },
     "execution_count": 61,
     "metadata": {},
     "output_type": "execute_result"
    },
    {
     "data": {
      "image/png": "[encoded data removed]",
      "text/plain": [
       "<Figure size 432x288 with 1 Axes>"
      ]
     },
     "metadata": {
      "needs_background": "light"
     },
     "output_type": "display_data"
    }
   ],
   "source": [
    "cateogry_df2.plot.bar(y = 'TotalSales')"
   ]
  },
  {
   "cell_type": "code",
   "execution_count": 62,
   "id": "60c4fa90",
   "metadata": {},
   "outputs": [
    {
     "data": {
      "image/png": "[encoded data removed]",
      "text/plain": [
       "<Figure size 432x288 with 1 Axes>"
      ]
     },
     "metadata": {},
     "output_type": "display_data"
    }
   ],
   "source": [
    "# Sales by Sales_Frequency\n",
    "labels = 'best_seller','cold','hot','reg_seller','warm'\n",
    "sales_frequency_fracs = cateogry_df2['TotalSales']\n",
    "\n",
    "colors = (np.random.random(3), np.random.random(3), np.random.random(3), np.random.random(3), np.random.random(3) )\n",
    "explode = (0, 0, 0, 0.2,0)\n",
    "plt.pie(sales_frequency_fracs, autopct='%1.1f%%',colors=colors,labels=labels,startangle=15, shadow = True, explode=explode)\n",
    "plt.title('Sales by Sales_Frequency')\n",
    "plt.axis('equal')\n",
    "plt.savefig('Output_Data/Images/Sales by Sales_Frequency.png')\n",
    "plt.show()"
   ]
  },
  {
   "cell_type": "code",
   "execution_count": 63,
   "id": "97c2c26d",
   "metadata": {},
   "outputs": [
    {
     "name": "stdout",
     "output_type": "stream",
     "text": [
      "(array([0.63076224, 0.36672475, 0.49582129]), array([0.70629012, 0.73333981, 0.22359985]), array([0.76899828, 0.54541361, 0.36269026]), array([0.18637224, 0.75268721, 0.45959601]), array([0.44503513, 0.8977806 , 0.18739547]))\n"
     ]
    }
   ],
   "source": [
    "# I like the below colors, use these for all graphs\n",
    "\n",
    "# colors = (array([0.68092864, 0.10607258, 0.75421312]), array([0.13430894, 0.95538026, 0.36429382]), \n",
    "#           array([0.06909113, 0.66157751, 0.86640759]), \n",
    "#           array([0.6172212 , 0.91940546, 0.13528443]), array([0.0214225 , 0.36345577, 0.37474934]))\n",
    "print(colors)"
   ]
  },
  {
   "cell_type": "markdown",
   "id": "758518c6",
   "metadata": {},
   "source": [
    "# Recommendations and Next steps\n",
    "\n",
    "1. Conduct a survey with Sales team to determine product categories to improve product recommendations to wholesale customer.\n",
    "1. Implement code into current softwares to automate graphs for results for sales team (e.g. tableau dashboard)\n",
    "1. xx"
   ]
  }
 ],
 "metadata": {
  "kernelspec": {
   "display_name": "Python 3 (ipykernel)",
   "language": "python",
   "name": "python3"
  },
  "language_info": {
   "codemirror_mode": {
    "name": "ipython",
    "version": 3
   },
   "file_extension": ".py",
   "mimetype": "text/x-python",
   "name": "python",
   "nbconvert_exporter": "python",
   "pygments_lexer": "ipython3",
   "version": "3.9.9"
  }
 },
 "nbformat": 4,
 "nbformat_minor": 5
}
